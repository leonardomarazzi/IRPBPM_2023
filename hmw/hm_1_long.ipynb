{
 "cells": [
  {
   "cell_type": "code",
   "execution_count": 3,
   "id": "742a8c6e-61b4-4d31-bd73-200f2ec677a3",
   "metadata": {},
   "outputs": [],
   "source": [
    "import pandas as pd"
   ]
  },
  {
   "cell_type": "code",
   "execution_count": 30,
   "id": "68c9e061-e5e1-47a7-bd65-04d8293db3b8",
   "metadata": {},
   "outputs": [],
   "source": [
    "df = pd.read_csv(\"hospital_billing.csv\")"
   ]
  },
  {
   "cell_type": "code",
   "execution_count": null,
   "id": "0915d1f9-cc0b-419e-a511-386b32fc8174",
   "metadata": {},
   "outputs": [],
   "source": []
  },
  {
   "cell_type": "code",
   "execution_count": 31,
   "id": "caacf84e-47e4-40b9-9388-a5371bb06c70",
   "metadata": {},
   "outputs": [],
   "source": [
    "df[\"timestamp\"] = pd.to_datetime(df[\"timestamp\"])"
   ]
  },
  {
   "cell_type": "code",
   "execution_count": null,
   "id": "b3b9ff5e-400a-4c78-a3c3-f47317945e30",
   "metadata": {},
   "outputs": [],
   "source": []
  },
  {
   "cell_type": "code",
   "execution_count": 32,
   "id": "42578e79-2696-4e90-9883-4bf4fa0cf0ba",
   "metadata": {},
   "outputs": [],
   "source": [
    "df = df[[\"case_id\",\"activity\",\"timestamp\"]]"
   ]
  },
  {
   "cell_type": "code",
   "execution_count": 33,
   "id": "b4c09670-3f47-4aba-8f73-7bb888f65799",
   "metadata": {},
   "outputs": [],
   "source": [
    "df.columns = [\"caseid\",\"activity\", \"ts\"]"
   ]
  },
  {
   "cell_type": "code",
   "execution_count": 34,
   "id": "50ea63a7-a28d-41dc-bce5-5844097b5513",
   "metadata": {},
   "outputs": [],
   "source": [
    "df_1 = pd.DataFrame()"
   ]
  },
  {
   "cell_type": "code",
   "execution_count": 35,
   "id": "1232dd38-0827-4093-ba37-2363b11cea91",
   "metadata": {},
   "outputs": [],
   "source": [
    "df_1 = df[[\"caseid\",\"activity\",\"ts\"]]"
   ]
  },
  {
   "cell_type": "code",
   "execution_count": 36,
   "id": "b0807c25-a89f-4424-a5ec-54a31042bff7",
   "metadata": {},
   "outputs": [],
   "source": [
    "df_1.sort_values(by=[\"caseid\",\"ts\"],inplace = True)"
   ]
  },
  {
   "cell_type": "code",
   "execution_count": null,
   "id": "f5368733-2523-457b-80c4-db7a3b6de9db",
   "metadata": {},
   "outputs": [],
   "source": []
  },
  {
   "cell_type": "code",
   "execution_count": 37,
   "id": "97317cd1-ddf8-4f7a-96f2-f5a9e9c2e338",
   "metadata": {},
   "outputs": [],
   "source": [
    "df_2 = df_1.groupby([\"caseid\"]).agg(list).reset_index()[[\"caseid\",\"ts\"]]"
   ]
  },
  {
   "cell_type": "code",
   "execution_count": 38,
   "id": "2efec876-c163-4325-9224-491b5e75e7f2",
   "metadata": {},
   "outputs": [],
   "source": [
    "df_2[\"duration\"] = df_2[\"ts\"].map(lambda x: x[-1]-x[0])\n",
    "df_2[\"event_number\"] = df_2[\"ts\"].map(lambda x: len(x))"
   ]
  },
  {
   "cell_type": "code",
   "execution_count": 39,
   "id": "54ba0ec9-6acc-4a51-b282-b001d853741b",
   "metadata": {},
   "outputs": [
    {
     "data": {
      "text/html": [
       "<div>\n",
       "<style scoped>\n",
       "    .dataframe tbody tr th:only-of-type {\n",
       "        vertical-align: middle;\n",
       "    }\n",
       "\n",
       "    .dataframe tbody tr th {\n",
       "        vertical-align: top;\n",
       "    }\n",
       "\n",
       "    .dataframe thead th {\n",
       "        text-align: right;\n",
       "    }\n",
       "</style>\n",
       "<table border=\"1\" class=\"dataframe\">\n",
       "  <thead>\n",
       "    <tr style=\"text-align: right;\">\n",
       "      <th></th>\n",
       "      <th>caseid</th>\n",
       "      <th>ts</th>\n",
       "      <th>duration</th>\n",
       "      <th>event_number</th>\n",
       "    </tr>\n",
       "  </thead>\n",
       "  <tbody>\n",
       "    <tr>\n",
       "      <th>4999</th>\n",
       "      <td>MZH</td>\n",
       "      <td>[2013-02-11 22:56:02]</td>\n",
       "      <td>0 days</td>\n",
       "      <td>1</td>\n",
       "    </tr>\n",
       "  </tbody>\n",
       "</table>\n",
       "</div>"
      ],
      "text/plain": [
       "     caseid                     ts duration  event_number\n",
       "4999    MZH  [2013-02-11 22:56:02]   0 days             1"
      ]
     },
     "execution_count": 39,
     "metadata": {},
     "output_type": "execute_result"
    }
   ],
   "source": [
    "df_2.sort_values(by=\"duration\").iloc[0:1]"
   ]
  },
  {
   "cell_type": "code",
   "execution_count": 40,
   "id": "2a140708-b9ae-4ee7-875d-7b5862cf2fdb",
   "metadata": {},
   "outputs": [
    {
     "data": {
      "text/html": [
       "<div>\n",
       "<style scoped>\n",
       "    .dataframe tbody tr th:only-of-type {\n",
       "        vertical-align: middle;\n",
       "    }\n",
       "\n",
       "    .dataframe tbody tr th {\n",
       "        vertical-align: top;\n",
       "    }\n",
       "\n",
       "    .dataframe thead th {\n",
       "        text-align: right;\n",
       "    }\n",
       "</style>\n",
       "<table border=\"1\" class=\"dataframe\">\n",
       "  <thead>\n",
       "    <tr style=\"text-align: right;\">\n",
       "      <th></th>\n",
       "      <th>caseid</th>\n",
       "      <th>ts</th>\n",
       "      <th>duration</th>\n",
       "      <th>event_number</th>\n",
       "    </tr>\n",
       "  </thead>\n",
       "  <tbody>\n",
       "    <tr>\n",
       "      <th>1302</th>\n",
       "      <td>DJK</td>\n",
       "      <td>[2013-03-30 21:14:50, 2014-03-31 23:41:29, 201...</td>\n",
       "      <td>987 days 16:40:25</td>\n",
       "      <td>6</td>\n",
       "    </tr>\n",
       "  </tbody>\n",
       "</table>\n",
       "</div>"
      ],
      "text/plain": [
       "     caseid                                                 ts  \\\n",
       "1302    DJK  [2013-03-30 21:14:50, 2014-03-31 23:41:29, 201...   \n",
       "\n",
       "              duration  event_number  \n",
       "1302 987 days 16:40:25             6  "
      ]
     },
     "execution_count": 40,
     "metadata": {},
     "output_type": "execute_result"
    }
   ],
   "source": [
    "df_2.sort_values(by=\"duration\").iloc[-2:-1]"
   ]
  },
  {
   "cell_type": "code",
   "execution_count": 41,
   "id": "a9420374-7407-4e42-8ed1-165783baacc3",
   "metadata": {},
   "outputs": [
    {
     "data": {
      "text/html": [
       "<div>\n",
       "<style scoped>\n",
       "    .dataframe tbody tr th:only-of-type {\n",
       "        vertical-align: middle;\n",
       "    }\n",
       "\n",
       "    .dataframe tbody tr th {\n",
       "        vertical-align: top;\n",
       "    }\n",
       "\n",
       "    .dataframe thead th {\n",
       "        text-align: right;\n",
       "    }\n",
       "</style>\n",
       "<table border=\"1\" class=\"dataframe\">\n",
       "  <thead>\n",
       "    <tr style=\"text-align: right;\">\n",
       "      <th></th>\n",
       "      <th>caseid</th>\n",
       "      <th>ts</th>\n",
       "      <th>duration</th>\n",
       "      <th>event_number</th>\n",
       "    </tr>\n",
       "  </thead>\n",
       "  <tbody>\n",
       "    <tr>\n",
       "      <th>234</th>\n",
       "      <td>APH</td>\n",
       "      <td>[2013-03-15 20:05:15, 2013-03-15 20:05:16, 201...</td>\n",
       "      <td>37 days 00:36:43</td>\n",
       "      <td>176</td>\n",
       "    </tr>\n",
       "  </tbody>\n",
       "</table>\n",
       "</div>"
      ],
      "text/plain": [
       "    caseid                                                 ts  \\\n",
       "234    APH  [2013-03-15 20:05:15, 2013-03-15 20:05:16, 201...   \n",
       "\n",
       "            duration  event_number  \n",
       "234 37 days 00:36:43           176  "
      ]
     },
     "execution_count": 41,
     "metadata": {},
     "output_type": "execute_result"
    }
   ],
   "source": [
    "df_2.sort_values(by=\"event_number\").iloc[-2:-1]"
   ]
  },
  {
   "cell_type": "code",
   "execution_count": null,
   "id": "83f23c92-bee6-42b2-b783-bed1f77b71e3",
   "metadata": {},
   "outputs": [],
   "source": []
  },
  {
   "cell_type": "code",
   "execution_count": null,
   "id": "a09fb874-78ea-4550-ba53-8cd53e277c08",
   "metadata": {},
   "outputs": [],
   "source": []
  },
  {
   "cell_type": "code",
   "execution_count": null,
   "id": "c464c9c2-aa15-47fa-b21a-08d42ccce0a0",
   "metadata": {},
   "outputs": [],
   "source": []
  },
  {
   "cell_type": "code",
   "execution_count": null,
   "id": "4474a0bd-9e67-4815-b992-be1f13571240",
   "metadata": {},
   "outputs": [],
   "source": []
  },
  {
   "cell_type": "code",
   "execution_count": null,
   "id": "a050f93b-7c09-4c1d-b712-692b002ad34e",
   "metadata": {},
   "outputs": [],
   "source": []
  },
  {
   "cell_type": "code",
   "execution_count": null,
   "id": "7c18dd28-754f-4025-a235-5ce523056ce9",
   "metadata": {},
   "outputs": [],
   "source": []
  }
 ],
 "metadata": {
  "kernelspec": {
   "display_name": "Python 3 (ipykernel)",
   "language": "python",
   "name": "python3"
  },
  "language_info": {
   "codemirror_mode": {
    "name": "ipython",
    "version": 3
   },
   "file_extension": ".py",
   "mimetype": "text/x-python",
   "name": "python",
   "nbconvert_exporter": "python",
   "pygments_lexer": "ipython3",
   "version": "3.11.7"
  }
 },
 "nbformat": 4,
 "nbformat_minor": 5
}
