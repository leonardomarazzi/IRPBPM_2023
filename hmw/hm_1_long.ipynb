{
 "cells": [
  {
   "cell_type": "code",
   "execution_count": 1,
   "id": "742a8c6e-61b4-4d31-bd73-200f2ec677a3",
   "metadata": {},
   "outputs": [],
   "source": [
    "import pandas as pd"
   ]
  },
  {
   "cell_type": "markdown",
   "id": "af99e397-a655-437b-860a-4ee7f778142e",
   "metadata": {},
   "source": [
    "Import an event log (csv format only) as a pandas dataframe"
   ]
  },
  {
   "cell_type": "code",
   "execution_count": 2,
   "id": "68c9e061-e5e1-47a7-bd65-04d8293db3b8",
   "metadata": {},
   "outputs": [],
   "source": [
    "df = pd.read_csv(\"hospital_billing.csv\")"
   ]
  },
  {
   "cell_type": "code",
   "execution_count": null,
   "id": "0915d1f9-cc0b-419e-a511-386b32fc8174",
   "metadata": {},
   "outputs": [],
   "source": []
  },
  {
   "cell_type": "code",
   "execution_count": 3,
   "id": "caacf84e-47e4-40b9-9388-a5371bb06c70",
   "metadata": {},
   "outputs": [],
   "source": [
    "df[\"timestamp\"] = pd.to_datetime(df[\"timestamp\"])"
   ]
  },
  {
   "cell_type": "markdown",
   "id": "9366e774-e6a3-4e52-b586-f0d75170a333",
   "metadata": {},
   "source": [
    "Rename the attributes as “caseid, activity, ts” if names are different (ts is for timestamp!)"
   ]
  },
  {
   "cell_type": "code",
   "execution_count": 4,
   "id": "42578e79-2696-4e90-9883-4bf4fa0cf0ba",
   "metadata": {},
   "outputs": [],
   "source": [
    "df = df[[\"case_id\",\"activity\",\"timestamp\"]]\n",
    "df.columns = [\"caseid\",\"activity\", \"ts\"]"
   ]
  },
  {
   "cell_type": "markdown",
   "id": "fad7d6b1-eba7-41a2-a1e8-686e369940fa",
   "metadata": {},
   "source": [
    "Create a new dataframe with columns caseid, list of events in a case (ordered by timestamp)"
   ]
  },
  {
   "cell_type": "code",
   "execution_count": 5,
   "id": "50ea63a7-a28d-41dc-bce5-5844097b5513",
   "metadata": {},
   "outputs": [
    {
     "data": {
      "text/html": [
       "<div>\n",
       "<style scoped>\n",
       "    .dataframe tbody tr th:only-of-type {\n",
       "        vertical-align: middle;\n",
       "    }\n",
       "\n",
       "    .dataframe tbody tr th {\n",
       "        vertical-align: top;\n",
       "    }\n",
       "\n",
       "    .dataframe thead th {\n",
       "        text-align: right;\n",
       "    }\n",
       "</style>\n",
       "<table border=\"1\" class=\"dataframe\">\n",
       "  <thead>\n",
       "    <tr style=\"text-align: right;\">\n",
       "      <th></th>\n",
       "      <th>caseid</th>\n",
       "      <th>activity</th>\n",
       "      <th>ts</th>\n",
       "    </tr>\n",
       "  </thead>\n",
       "  <tbody>\n",
       "    <tr>\n",
       "      <th>0</th>\n",
       "      <td>A</td>\n",
       "      <td>NEW</td>\n",
       "      <td>2012-12-16 19:33:10</td>\n",
       "    </tr>\n",
       "    <tr>\n",
       "      <th>1</th>\n",
       "      <td>A</td>\n",
       "      <td>FIN</td>\n",
       "      <td>2013-12-15 19:00:37</td>\n",
       "    </tr>\n",
       "    <tr>\n",
       "      <th>2</th>\n",
       "      <td>A</td>\n",
       "      <td>RELEASE</td>\n",
       "      <td>2013-12-16 03:53:38</td>\n",
       "    </tr>\n",
       "    <tr>\n",
       "      <th>3</th>\n",
       "      <td>A</td>\n",
       "      <td>CODE OK</td>\n",
       "      <td>2013-12-17 12:56:29</td>\n",
       "    </tr>\n",
       "    <tr>\n",
       "      <th>4</th>\n",
       "      <td>A</td>\n",
       "      <td>BILLED</td>\n",
       "      <td>2013-12-19 03:44:31</td>\n",
       "    </tr>\n",
       "  </tbody>\n",
       "</table>\n",
       "</div>"
      ],
      "text/plain": [
       "  caseid activity                  ts\n",
       "0      A      NEW 2012-12-16 19:33:10\n",
       "1      A      FIN 2013-12-15 19:00:37\n",
       "2      A  RELEASE 2013-12-16 03:53:38\n",
       "3      A  CODE OK 2013-12-17 12:56:29\n",
       "4      A   BILLED 2013-12-19 03:44:31"
      ]
     },
     "execution_count": 5,
     "metadata": {},
     "output_type": "execute_result"
    }
   ],
   "source": [
    "df_1 = pd.DataFrame()\n",
    "df_1 = df[[\"caseid\",\"activity\",\"ts\"]]\n",
    "df_1.sort_values(by=[\"caseid\",\"ts\"],inplace = True)\n",
    "df_1.head()"
   ]
  },
  {
   "cell_type": "markdown",
   "id": "087e6e1a-07ae-4eeb-99c6-0081888b8d54",
   "metadata": {},
   "source": [
    "Augment the event log created at 4 with two new attributes: duration, event_number ",
    "duration = ts(last event in case) - ts(first event in case)\n",
    "\n",
    "Event_number: number of events in a case"
   ]
  },
  {
   "cell_type": "code",
   "execution_count": 7,
   "id": "97317cd1-ddf8-4f7a-96f2-f5a9e9c2e338",
   "metadata": {},
   "outputs": [],
   "source": [
    "df_2 = df_1.groupby([\"caseid\"]).agg(list).reset_index()[[\"caseid\",\"ts\"]]\n",
    "df_2[\"duration\"] = df_2[\"ts\"].map(lambda x: x[-1]-x[0])\n",
    "df_2[\"event_number\"] = df_2[\"ts\"].map(lambda x: len(x))"
   ]
  },
  {
   "cell_type": "markdown",
   "id": "774274b6-6d68-432a-b87e-89bae58b37ab",
   "metadata": {},
   "source": [
    "Find the longest/shortest case by duration - duration = ts(last event in case) - ts(first event in case)"
   ]
  },
  {
   "cell_type": "code",
   "execution_count": 8,
   "id": "54ba0ec9-6acc-4a51-b282-b001d853741b",
   "metadata": {},
   "outputs": [
    {
     "data": {
      "text/html": [
       "<div>\n",
       "<style scoped>\n",
       "    .dataframe tbody tr th:only-of-type {\n",
       "        vertical-align: middle;\n",
       "    }\n",
       "\n",
       "    .dataframe tbody tr th {\n",
       "        vertical-align: top;\n",
       "    }\n",
       "\n",
       "    .dataframe thead th {\n",
       "        text-align: right;\n",
       "    }\n",
       "</style>\n",
       "<table border=\"1\" class=\"dataframe\">\n",
       "  <thead>\n",
       "    <tr style=\"text-align: right;\">\n",
       "      <th></th>\n",
       "      <th>caseid</th>\n",
       "      <th>ts</th>\n",
       "      <th>duration</th>\n",
       "      <th>event_number</th>\n",
       "    </tr>\n",
       "  </thead>\n",
       "  <tbody>\n",
       "    <tr>\n",
       "      <th>4999</th>\n",
       "      <td>MZH</td>\n",
       "      <td>[2013-02-11 22:56:02]</td>\n",
       "      <td>0 days</td>\n",
       "      <td>1</td>\n",
       "    </tr>\n",
       "  </tbody>\n",
       "</table>\n",
       "</div>"
      ],
      "text/plain": [
       "     caseid                     ts duration  event_number\n",
       "4999    MZH  [2013-02-11 22:56:02]   0 days             1"
      ]
     },
     "execution_count": 8,
     "metadata": {},
     "output_type": "execute_result"
    }
   ],
   "source": [
    "df_2.sort_values(by=\"duration\").iloc[0:1]"
   ]
  },
  {
   "cell_type": "code",
   "execution_count": 9,
   "id": "2a140708-b9ae-4ee7-875d-7b5862cf2fdb",
   "metadata": {},
   "outputs": [
    {
     "data": {
      "text/html": [
       "<div>\n",
       "<style scoped>\n",
       "    .dataframe tbody tr th:only-of-type {\n",
       "        vertical-align: middle;\n",
       "    }\n",
       "\n",
       "    .dataframe tbody tr th {\n",
       "        vertical-align: top;\n",
       "    }\n",
       "\n",
       "    .dataframe thead th {\n",
       "        text-align: right;\n",
       "    }\n",
       "</style>\n",
       "<table border=\"1\" class=\"dataframe\">\n",
       "  <thead>\n",
       "    <tr style=\"text-align: right;\">\n",
       "      <th></th>\n",
       "      <th>caseid</th>\n",
       "      <th>ts</th>\n",
       "      <th>duration</th>\n",
       "      <th>event_number</th>\n",
       "    </tr>\n",
       "  </thead>\n",
       "  <tbody>\n",
       "    <tr>\n",
       "      <th>1302</th>\n",
       "      <td>DJK</td>\n",
       "      <td>[2013-03-30 21:14:50, 2014-03-31 23:41:29, 201...</td>\n",
       "      <td>987 days 16:40:25</td>\n",
       "      <td>6</td>\n",
       "    </tr>\n",
       "  </tbody>\n",
       "</table>\n",
       "</div>"
      ],
      "text/plain": [
       "     caseid                                                 ts  \\\n",
       "1302    DJK  [2013-03-30 21:14:50, 2014-03-31 23:41:29, 201...   \n",
       "\n",
       "              duration  event_number  \n",
       "1302 987 days 16:40:25             6  "
      ]
     },
     "execution_count": 9,
     "metadata": {},
     "output_type": "execute_result"
    }
   ],
   "source": [
    "df_2.sort_values(by=\"duration\").iloc[-2:-1]"
   ]
  },
  {
   "cell_type": "markdown",
   "id": "b88be4df-5dbb-494e-a61d-03a102946cca",
   "metadata": {},
   "source": [
    "Find the longest case(s) by number of events"
   ]
  },
  {
   "cell_type": "code",
   "execution_count": 10,
   "id": "a9420374-7407-4e42-8ed1-165783baacc3",
   "metadata": {},
   "outputs": [
    {
     "data": {
      "text/html": [
       "<div>\n",
       "<style scoped>\n",
       "    .dataframe tbody tr th:only-of-type {\n",
       "        vertical-align: middle;\n",
       "    }\n",
       "\n",
       "    .dataframe tbody tr th {\n",
       "        vertical-align: top;\n",
       "    }\n",
       "\n",
       "    .dataframe thead th {\n",
       "        text-align: right;\n",
       "    }\n",
       "</style>\n",
       "<table border=\"1\" class=\"dataframe\">\n",
       "  <thead>\n",
       "    <tr style=\"text-align: right;\">\n",
       "      <th></th>\n",
       "      <th>caseid</th>\n",
       "      <th>ts</th>\n",
       "      <th>duration</th>\n",
       "      <th>event_number</th>\n",
       "    </tr>\n",
       "  </thead>\n",
       "  <tbody>\n",
       "    <tr>\n",
       "      <th>234</th>\n",
       "      <td>APH</td>\n",
       "      <td>[2013-03-15 20:05:15, 2013-03-15 20:05:16, 201...</td>\n",
       "      <td>37 days 00:36:43</td>\n",
       "      <td>176</td>\n",
       "    </tr>\n",
       "  </tbody>\n",
       "</table>\n",
       "</div>"
      ],
      "text/plain": [
       "    caseid                                                 ts  \\\n",
       "234    APH  [2013-03-15 20:05:15, 2013-03-15 20:05:16, 201...   \n",
       "\n",
       "            duration  event_number  \n",
       "234 37 days 00:36:43           176  "
      ]
     },
     "execution_count": 10,
     "metadata": {},
     "output_type": "execute_result"
    }
   ],
   "source": [
    "df_2.sort_values(by=\"event_number\").iloc[-2:-1]"
   ]
  },
  {
   "cell_type": "code",
   "execution_count": null,
   "id": "83f23c92-bee6-42b2-b783-bed1f77b71e3",
   "metadata": {},
   "outputs": [],
   "source": []
  },
  {
   "cell_type": "code",
   "execution_count": null,
   "id": "a09fb874-78ea-4550-ba53-8cd53e277c08",
   "metadata": {},
   "outputs": [],
   "source": []
  },
  {
   "cell_type": "code",
   "execution_count": null,
   "id": "c464c9c2-aa15-47fa-b21a-08d42ccce0a0",
   "metadata": {},
   "outputs": [],
   "source": []
  },
  {
   "cell_type": "code",
   "execution_count": null,
   "id": "4474a0bd-9e67-4815-b992-be1f13571240",
   "metadata": {},
   "outputs": [],
   "source": []
  },
  {
   "cell_type": "code",
   "execution_count": null,
   "id": "a050f93b-7c09-4c1d-b712-692b002ad34e",
   "metadata": {},
   "outputs": [],
   "source": []
  },
  {
   "cell_type": "code",
   "execution_count": null,
   "id": "7c18dd28-754f-4025-a235-5ce523056ce9",
   "metadata": {},
   "outputs": [],
   "source": []
  }
 ],
 "metadata": {
  "kernelspec": {
   "display_name": "Python 3 (ipykernel)",
   "language": "python",
   "name": "python3"
  },
  "language_info": {
   "codemirror_mode": {
    "name": "ipython",
    "version": 3
   },
   "file_extension": ".py",
   "mimetype": "text/x-python",
   "name": "python",
   "nbconvert_exporter": "python",
   "pygments_lexer": "ipython3",
   "version": "3.11.7"
  }
 },
 "nbformat": 4,
 "nbformat_minor": 5
}
