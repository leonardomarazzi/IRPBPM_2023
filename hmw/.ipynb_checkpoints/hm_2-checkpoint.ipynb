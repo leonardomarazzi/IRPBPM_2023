{
 "cells": [
  {
   "cell_type": "code",
   "execution_count": 313,
   "id": "f3451b98-565d-400a-b44e-38dff00f9ed3",
   "metadata": {},
   "outputs": [],
   "source": [
    "import pandas as pd\n",
    "import statistics\n",
    "import warnings\n",
    "from sklearn.ensemble import RandomForestClassifier\n",
    "from sklearn.datasets import make_classification\n",
    "from sklearn.model_selection import train_test_split\n",
    "\n",
    "warnings.filterwarnings('ignore')"
   ]
  },
  {
   "cell_type": "code",
   "execution_count": 314,
   "id": "2fd98f06-1a00-4896-82c1-6dded7ecb339",
   "metadata": {},
   "outputs": [],
   "source": [
    "df = pd.read_csv(\"small3insert.csv\")\n",
    "df[\"Timestamp\"] = pd.to_datetime(df[\"Timestamp\"])"
   ]
  },
  {
   "cell_type": "code",
   "execution_count": 315,
   "id": "198e581c-d476-4f10-932d-abd2ff02e97b",
   "metadata": {},
   "outputs": [
    {
     "data": {
      "text/html": [
       "<div>\n",
       "<style scoped>\n",
       "    .dataframe tbody tr th:only-of-type {\n",
       "        vertical-align: middle;\n",
       "    }\n",
       "\n",
       "    .dataframe tbody tr th {\n",
       "        vertical-align: top;\n",
       "    }\n",
       "\n",
       "    .dataframe thead th {\n",
       "        text-align: right;\n",
       "    }\n",
       "</style>\n",
       "<table border=\"1\" class=\"dataframe\">\n",
       "  <thead>\n",
       "    <tr style=\"text-align: right;\">\n",
       "      <th></th>\n",
       "      <th>Case</th>\n",
       "      <th>Event</th>\n",
       "      <th>Activity</th>\n",
       "      <th>Timestamp</th>\n",
       "      <th>Resource</th>\n",
       "      <th>Resource_failure_rate</th>\n",
       "      <th>Resource_Pass/Fail</th>\n",
       "      <th>order</th>\n",
       "      <th>resource_anomaly_type</th>\n",
       "      <th>resource_parameter</th>\n",
       "      <th>trace_change_resource</th>\n",
       "      <th>variant_num</th>\n",
       "    </tr>\n",
       "  </thead>\n",
       "  <tbody>\n",
       "    <tr>\n",
       "      <th>0</th>\n",
       "      <td>case_0</td>\n",
       "      <td>9367</td>\n",
       "      <td>Activity A</td>\n",
       "      <td>1970-01-01 09:00:00</td>\n",
       "      <td>Resource_Group2_res_1</td>\n",
       "      <td>0.026984</td>\n",
       "      <td>0</td>\n",
       "      <td>1</td>\n",
       "      <td>normal</td>\n",
       "      <td>NaN</td>\n",
       "      <td>0</td>\n",
       "      <td>var_358</td>\n",
       "    </tr>\n",
       "    <tr>\n",
       "      <th>1</th>\n",
       "      <td>case_0</td>\n",
       "      <td>9368</td>\n",
       "      <td>Activity B</td>\n",
       "      <td>1970-01-01 10:00:00</td>\n",
       "      <td>Resource_Group0_res_0</td>\n",
       "      <td>0.018454</td>\n",
       "      <td>0</td>\n",
       "      <td>2</td>\n",
       "      <td>normal</td>\n",
       "      <td>NaN</td>\n",
       "      <td>0</td>\n",
       "      <td>var_358</td>\n",
       "    </tr>\n",
       "    <tr>\n",
       "      <th>2</th>\n",
       "      <td>case_0</td>\n",
       "      <td>9369</td>\n",
       "      <td>Activity C</td>\n",
       "      <td>1970-01-01 11:00:00</td>\n",
       "      <td>Resource_Group1_res_0</td>\n",
       "      <td>0.002551</td>\n",
       "      <td>0</td>\n",
       "      <td>3</td>\n",
       "      <td>normal</td>\n",
       "      <td>NaN</td>\n",
       "      <td>0</td>\n",
       "      <td>var_358</td>\n",
       "    </tr>\n",
       "    <tr>\n",
       "      <th>3</th>\n",
       "      <td>case_0</td>\n",
       "      <td>9370</td>\n",
       "      <td>Activity D</td>\n",
       "      <td>1970-01-01 12:00:00</td>\n",
       "      <td>Resource_Group2_res_2</td>\n",
       "      <td>0.029775</td>\n",
       "      <td>0</td>\n",
       "      <td>4</td>\n",
       "      <td>normal</td>\n",
       "      <td>NaN</td>\n",
       "      <td>0</td>\n",
       "      <td>var_358</td>\n",
       "    </tr>\n",
       "    <tr>\n",
       "      <th>4</th>\n",
       "      <td>case_0</td>\n",
       "      <td>9371</td>\n",
       "      <td>Activity E</td>\n",
       "      <td>1970-01-01 13:00:00</td>\n",
       "      <td>Resource_Group0_res_0</td>\n",
       "      <td>0.018454</td>\n",
       "      <td>0</td>\n",
       "      <td>5</td>\n",
       "      <td>normal</td>\n",
       "      <td>NaN</td>\n",
       "      <td>0</td>\n",
       "      <td>var_358</td>\n",
       "    </tr>\n",
       "  </tbody>\n",
       "</table>\n",
       "</div>"
      ],
      "text/plain": [
       "     Case  Event    Activity           Timestamp               Resource  \\\n",
       "0  case_0   9367  Activity A 1970-01-01 09:00:00  Resource_Group2_res_1   \n",
       "1  case_0   9368  Activity B 1970-01-01 10:00:00  Resource_Group0_res_0   \n",
       "2  case_0   9369  Activity C 1970-01-01 11:00:00  Resource_Group1_res_0   \n",
       "3  case_0   9370  Activity D 1970-01-01 12:00:00  Resource_Group2_res_2   \n",
       "4  case_0   9371  Activity E 1970-01-01 13:00:00  Resource_Group0_res_0   \n",
       "\n",
       "   Resource_failure_rate  Resource_Pass/Fail  order resource_anomaly_type  \\\n",
       "0               0.026984                   0      1                normal   \n",
       "1               0.018454                   0      2                normal   \n",
       "2               0.002551                   0      3                normal   \n",
       "3               0.029775                   0      4                normal   \n",
       "4               0.018454                   0      5                normal   \n",
       "\n",
       "  resource_parameter  trace_change_resource variant_num  \n",
       "0                NaN                      0     var_358  \n",
       "1                NaN                      0     var_358  \n",
       "2                NaN                      0     var_358  \n",
       "3                NaN                      0     var_358  \n",
       "4                NaN                      0     var_358  "
      ]
     },
     "execution_count": 315,
     "metadata": {},
     "output_type": "execute_result"
    }
   ],
   "source": [
    "df.head()"
   ]
  },
  {
   "cell_type": "code",
   "execution_count": 316,
   "id": "6a13da6a-a8a5-4366-a2c5-4ee63e9e9ad4",
   "metadata": {},
   "outputs": [],
   "source": [
    "df = df[[\"Case\",\"Activity\",\"Timestamp\",\"Resource\",\"resource_anomaly_type\",\"Event\"]]"
   ]
  },
  {
   "cell_type": "code",
   "execution_count": 317,
   "id": "2fcd6377-920e-4f75-8cd6-bb052588e41b",
   "metadata": {},
   "outputs": [],
   "source": [
    "df.columns = [\"caseid\",\"activity\", \"ts\",\"resource\",\"outcome\",\"event\"]"
   ]
  },
  {
   "cell_type": "code",
   "execution_count": 318,
   "id": "54067751-86a3-46e4-888d-8aa97fd0ca7d",
   "metadata": {},
   "outputs": [],
   "source": [
    "list_ = []\n",
    "for i in range(len(df)-1):\n",
    "    if df.iloc[i+1][\"caseid\"] == df.iloc[i][\"caseid\"]:\n",
    "        list_ = list_ + [df.iloc[i+1][\"ts\"]-df.iloc[i][\"ts\"] ]\n",
    "    else:\n",
    "        list_ = list_ + [list_[-1]]\n",
    "list_ = list_ + [list_[-1]]\n",
    "df[\"t\"] = list_"
   ]
  },
  {
   "cell_type": "code",
   "execution_count": 319,
   "id": "75e68c60-2b66-446d-a894-29dcaa7cceb1",
   "metadata": {},
   "outputs": [
    {
     "data": {
      "text/html": [
       "<div>\n",
       "<style scoped>\n",
       "    .dataframe tbody tr th:only-of-type {\n",
       "        vertical-align: middle;\n",
       "    }\n",
       "\n",
       "    .dataframe tbody tr th {\n",
       "        vertical-align: top;\n",
       "    }\n",
       "\n",
       "    .dataframe thead th {\n",
       "        text-align: right;\n",
       "    }\n",
       "</style>\n",
       "<table border=\"1\" class=\"dataframe\">\n",
       "  <thead>\n",
       "    <tr style=\"text-align: right;\">\n",
       "      <th></th>\n",
       "      <th>caseid</th>\n",
       "      <th>activity</th>\n",
       "      <th>ts</th>\n",
       "      <th>resource</th>\n",
       "      <th>outcome</th>\n",
       "      <th>event</th>\n",
       "      <th>t</th>\n",
       "    </tr>\n",
       "  </thead>\n",
       "  <tbody>\n",
       "    <tr>\n",
       "      <th>0</th>\n",
       "      <td>case_0</td>\n",
       "      <td>Activity A</td>\n",
       "      <td>1970-01-01 09:00:00</td>\n",
       "      <td>Resource_Group2_res_1</td>\n",
       "      <td>normal</td>\n",
       "      <td>9367</td>\n",
       "      <td>0 days 01:00:00</td>\n",
       "    </tr>\n",
       "    <tr>\n",
       "      <th>1</th>\n",
       "      <td>case_0</td>\n",
       "      <td>Activity B</td>\n",
       "      <td>1970-01-01 10:00:00</td>\n",
       "      <td>Resource_Group0_res_0</td>\n",
       "      <td>normal</td>\n",
       "      <td>9368</td>\n",
       "      <td>0 days 01:00:00</td>\n",
       "    </tr>\n",
       "    <tr>\n",
       "      <th>2</th>\n",
       "      <td>case_0</td>\n",
       "      <td>Activity C</td>\n",
       "      <td>1970-01-01 11:00:00</td>\n",
       "      <td>Resource_Group1_res_0</td>\n",
       "      <td>normal</td>\n",
       "      <td>9369</td>\n",
       "      <td>0 days 01:00:00</td>\n",
       "    </tr>\n",
       "    <tr>\n",
       "      <th>3</th>\n",
       "      <td>case_0</td>\n",
       "      <td>Activity D</td>\n",
       "      <td>1970-01-01 12:00:00</td>\n",
       "      <td>Resource_Group2_res_2</td>\n",
       "      <td>normal</td>\n",
       "      <td>9370</td>\n",
       "      <td>0 days 01:00:00</td>\n",
       "    </tr>\n",
       "    <tr>\n",
       "      <th>4</th>\n",
       "      <td>case_0</td>\n",
       "      <td>Activity E</td>\n",
       "      <td>1970-01-01 13:00:00</td>\n",
       "      <td>Resource_Group0_res_0</td>\n",
       "      <td>normal</td>\n",
       "      <td>9371</td>\n",
       "      <td>0 days 01:00:00</td>\n",
       "    </tr>\n",
       "  </tbody>\n",
       "</table>\n",
       "</div>"
      ],
      "text/plain": [
       "   caseid    activity                  ts               resource outcome  \\\n",
       "0  case_0  Activity A 1970-01-01 09:00:00  Resource_Group2_res_1  normal   \n",
       "1  case_0  Activity B 1970-01-01 10:00:00  Resource_Group0_res_0  normal   \n",
       "2  case_0  Activity C 1970-01-01 11:00:00  Resource_Group1_res_0  normal   \n",
       "3  case_0  Activity D 1970-01-01 12:00:00  Resource_Group2_res_2  normal   \n",
       "4  case_0  Activity E 1970-01-01 13:00:00  Resource_Group0_res_0  normal   \n",
       "\n",
       "   event               t  \n",
       "0   9367 0 days 01:00:00  \n",
       "1   9368 0 days 01:00:00  \n",
       "2   9369 0 days 01:00:00  \n",
       "3   9370 0 days 01:00:00  \n",
       "4   9371 0 days 01:00:00  "
      ]
     },
     "execution_count": 319,
     "metadata": {},
     "output_type": "execute_result"
    }
   ],
   "source": [
    "df.head()"
   ]
  },
  {
   "cell_type": "code",
   "execution_count": 320,
   "id": "9b03e90a-87c9-4925-854b-81dfaddc6ca4",
   "metadata": {},
   "outputs": [],
   "source": [
    "def first_L_events(df,L):\n",
    "    df_t = df.groupby([\"caseid\"]).agg(list).reset_index()[[\"caseid\",\"event\"]]\n",
    "\n",
    "    list_len = df_t[\"event\"].map(lambda x: len(x))\n",
    "    df_t[\"len\"] = list_len\n",
    "    df_L = df_t.loc[df_t['len'] >= L]\n",
    "\n",
    "    list_case = df_L[\"event\"].map(lambda x: x[:L])\n",
    "\n",
    "    out = pd.DataFrame(columns = [\"caseid\",\"list_case\"])    \n",
    "\n",
    "    \n",
    "    output = df_L[\"caseid\"]\n",
    "    output[\"list_case\"] = [i for i in list_case]\n",
    "\n",
    "    \n",
    "    return output\n",
    " \n",
    "    \n",
    "    "
   ]
  },
  {
   "cell_type": "code",
   "execution_count": 321,
   "id": "9f066669-05b3-4880-b26d-fde96e3cf489",
   "metadata": {},
   "outputs": [
    {
     "data": {
      "text/plain": [
       "0                                                       case_0\n",
       "1                                                       case_1\n",
       "2                                                      case_10\n",
       "3                                                     case_100\n",
       "4                                                    case_1000\n",
       "                                   ...                        \n",
       "4996                                                  case_996\n",
       "4997                                                  case_997\n",
       "4998                                                  case_998\n",
       "4999                                                  case_999\n",
       "list_case    [[9367, 9368, 9369], [13225, 13226, 13227], [1...\n",
       "Name: caseid, Length: 5001, dtype: object"
      ]
     },
     "execution_count": 321,
     "metadata": {},
     "output_type": "execute_result"
    }
   ],
   "source": [
    "first_L_events(df,3)"
   ]
  },
  {
   "cell_type": "code",
   "execution_count": 322,
   "id": "79ea4f21-b04e-4bf1-88a0-20c4be8ee099",
   "metadata": {},
   "outputs": [],
   "source": [
    "def first_L_events(df,L):\n",
    "    df_t = df.groupby([\"caseid\"]).agg(list).reset_index()[[\"caseid\",\"event\"]]\n",
    "\n",
    "    list_len = df_t[\"event\"].map(lambda x: len(x))\n",
    "    df_t[\"len\"] = list_len\n",
    "    df_L = df_t.loc[df_t['len'] >= L] \n",
    "    df_L[\"event_prefix\"] = df_L[\"event\"].map(lambda x: x[0:L])\n",
    "    return df_L[[\"caseid\",\"event_prefix\"]]\n",
    " \n",
    "    \n",
    "    "
   ]
  },
  {
   "cell_type": "code",
   "execution_count": 323,
   "id": "bd24e9fd-c27c-48ac-8292-e1ec9d250777",
   "metadata": {},
   "outputs": [
    {
     "data": {
      "text/html": [
       "<div>\n",
       "<style scoped>\n",
       "    .dataframe tbody tr th:only-of-type {\n",
       "        vertical-align: middle;\n",
       "    }\n",
       "\n",
       "    .dataframe tbody tr th {\n",
       "        vertical-align: top;\n",
       "    }\n",
       "\n",
       "    .dataframe thead th {\n",
       "        text-align: right;\n",
       "    }\n",
       "</style>\n",
       "<table border=\"1\" class=\"dataframe\">\n",
       "  <thead>\n",
       "    <tr style=\"text-align: right;\">\n",
       "      <th></th>\n",
       "      <th>caseid</th>\n",
       "      <th>event_prefix</th>\n",
       "    </tr>\n",
       "  </thead>\n",
       "  <tbody>\n",
       "    <tr>\n",
       "      <th>0</th>\n",
       "      <td>case_0</td>\n",
       "      <td>[9367, 9368, 9369, 9370, 9371]</td>\n",
       "    </tr>\n",
       "    <tr>\n",
       "      <th>1</th>\n",
       "      <td>case_1</td>\n",
       "      <td>[13225, 13226, 13227, 13227, 13227]</td>\n",
       "    </tr>\n",
       "    <tr>\n",
       "      <th>2</th>\n",
       "      <td>case_10</td>\n",
       "      <td>[1025, 1026, 1027, 1028, 1029]</td>\n",
       "    </tr>\n",
       "    <tr>\n",
       "      <th>3</th>\n",
       "      <td>case_100</td>\n",
       "      <td>[39553, 39554, 39555, 39556, 39557]</td>\n",
       "    </tr>\n",
       "    <tr>\n",
       "      <th>4</th>\n",
       "      <td>case_1000</td>\n",
       "      <td>[27951, 27952, 27953, 27954, 27955]</td>\n",
       "    </tr>\n",
       "    <tr>\n",
       "      <th>...</th>\n",
       "      <td>...</td>\n",
       "      <td>...</td>\n",
       "    </tr>\n",
       "    <tr>\n",
       "      <th>4995</th>\n",
       "      <td>case_995</td>\n",
       "      <td>[11080, 11081, 11082, 11083, 11084]</td>\n",
       "    </tr>\n",
       "    <tr>\n",
       "      <th>4996</th>\n",
       "      <td>case_996</td>\n",
       "      <td>[9536, 9537, 9538, 9539, 9540]</td>\n",
       "    </tr>\n",
       "    <tr>\n",
       "      <th>4997</th>\n",
       "      <td>case_997</td>\n",
       "      <td>[7567, 7568, 7569, 7570, 7571]</td>\n",
       "    </tr>\n",
       "    <tr>\n",
       "      <th>4998</th>\n",
       "      <td>case_998</td>\n",
       "      <td>[8949, 8950, 8951, 8952, 8953]</td>\n",
       "    </tr>\n",
       "    <tr>\n",
       "      <th>4999</th>\n",
       "      <td>case_999</td>\n",
       "      <td>[31360, 31361, 31362, 31363, 31364]</td>\n",
       "    </tr>\n",
       "  </tbody>\n",
       "</table>\n",
       "<p>5000 rows × 2 columns</p>\n",
       "</div>"
      ],
      "text/plain": [
       "         caseid                         event_prefix\n",
       "0        case_0       [9367, 9368, 9369, 9370, 9371]\n",
       "1        case_1  [13225, 13226, 13227, 13227, 13227]\n",
       "2       case_10       [1025, 1026, 1027, 1028, 1029]\n",
       "3      case_100  [39553, 39554, 39555, 39556, 39557]\n",
       "4     case_1000  [27951, 27952, 27953, 27954, 27955]\n",
       "...         ...                                  ...\n",
       "4995   case_995  [11080, 11081, 11082, 11083, 11084]\n",
       "4996   case_996       [9536, 9537, 9538, 9539, 9540]\n",
       "4997   case_997       [7567, 7568, 7569, 7570, 7571]\n",
       "4998   case_998       [8949, 8950, 8951, 8952, 8953]\n",
       "4999   case_999  [31360, 31361, 31362, 31363, 31364]\n",
       "\n",
       "[5000 rows x 2 columns]"
      ]
     },
     "execution_count": 323,
     "metadata": {},
     "output_type": "execute_result"
    }
   ],
   "source": [
    "first_L_events(df, 5)"
   ]
  },
  {
   "cell_type": "code",
   "execution_count": 349,
   "id": "dfc2110b-a056-4fbe-a03c-1dc9fb5b2c90",
   "metadata": {},
   "outputs": [],
   "source": [
    "def aggregation_encoding(df):\n",
    "    def avg(x):\n",
    "        avg = x[0]\n",
    "        for i in x[1:]:\n",
    "            avg = avg + i\n",
    "        return avg/len(x)\n",
    "    \n",
    "    \n",
    "    df_grouped = df.groupby([\"caseid\"]).agg(list)\n",
    "    for activity in df[\"activity\"].unique():\n",
    "        df_grouped[activity] = df_grouped[\"activity\"].map(lambda x : x.count(activity)/len(x))\n",
    "\n",
    "    for activity in df[\"resource\"].unique():\n",
    "        df_grouped[activity] = df_grouped[\"resource\"].map(lambda x : x.count(activity)/len(x))\n",
    "    df_grouped[\"avg_t\"] = df_grouped[\"t\"].map(lambda x : avg(x))\n",
    "\n",
    "\n",
    "    return df_grouped[df_grouped.columns[6:]].copy()\n",
    "    "
   ]
  },
  {
   "cell_type": "code",
   "execution_count": 350,
   "id": "cb44163e-08b0-4ce1-9af1-763cc3f10138",
   "metadata": {},
   "outputs": [],
   "source": [
    "a = aggregation_encoding(df)"
   ]
  },
  {
   "cell_type": "code",
   "execution_count": null,
   "id": "579c0e34-b7cc-465c-878b-abae22e4ee97",
   "metadata": {},
   "outputs": [],
   "source": []
  },
  {
   "cell_type": "code",
   "execution_count": 329,
   "id": "1a3d3709-7f3e-419d-ae4b-0558c6d585fd",
   "metadata": {},
   "outputs": [
    {
     "data": {
      "text/plain": [
       "45847"
      ]
     },
     "execution_count": 329,
     "metadata": {},
     "output_type": "execute_result"
    }
   ],
   "source": []
  },
  {
   "cell_type": "code",
   "execution_count": 167,
   "id": "49c9b5f2-7918-4e9c-b5fd-1726a254b3b4",
   "metadata": {},
   "outputs": [],
   "source": [
    "df_grouped= df.groupby([\"caseid\"]).agg(list)"
   ]
  },
  {
   "cell_type": "code",
   "execution_count": 168,
   "id": "51fe9408-2f01-4c6c-ae9a-fd837ae04dcf",
   "metadata": {},
   "outputs": [],
   "source": [
    "max_lenght = df_grouped[\"activity\"].map(lambda x: len(x)).max()"
   ]
  },
  {
   "cell_type": "code",
   "execution_count": 169,
   "id": "dbc195e7-cba6-43de-9bc2-ba0524f4c31b",
   "metadata": {},
   "outputs": [],
   "source": [
    "df_grouped[\"max_lenght\"] = max_lenght"
   ]
  },
  {
   "cell_type": "code",
   "execution_count": null,
   "id": "d7cac593-fbaf-494f-8c6e-aba038a6a53f",
   "metadata": {},
   "outputs": [],
   "source": []
  },
  {
   "cell_type": "code",
   "execution_count": 266,
   "id": "5e928729-5b52-4bec-91d6-0b9de9da6eda",
   "metadata": {},
   "outputs": [],
   "source": [
    "def index_encoding(df):\n",
    "    df_grouped= df.groupby([\"caseid\"]).agg(list)\n",
    "    max_lenght = df_grouped[\"activity\"].map(lambda x: len(x)).max()\n",
    "    \n",
    "    for i in range(0,max_lenght):\n",
    "        for act in df[\"activity\"].unique():\n",
    "            df_grouped[f\"{act}_{i+1}\"] = df_grouped[\"activity\"].map(lambda x : 1 if act in x else 0).copy()\n",
    "        for resource in df[\"resource\"].unique():\n",
    "            df_grouped[f\"{resource}_{i+1}\"] = df_grouped[\"resource\"].map(lambda x : 1 if resource in x else 0).copy() \n",
    "    \n",
    "        t_i = []\n",
    "    \n",
    "        for index in range(0,len(df_grouped)):\n",
    "            try:\n",
    "                t_i.append(df_grouped.iloc[index][\"ts\"][i])\n",
    "            except:\n",
    "                t_i.append(0)\n",
    "        \n",
    "        df_grouped[f\"t_{i+1}\"] = t_i\n",
    "\n",
    "    df_grouped[\"out\"] = df_grouped[\"outcome\"].map(lambda x : x[0])\n",
    "    return df_grouped[df_grouped.columns[6:]].copy()"
   ]
  },
  {
   "cell_type": "code",
   "execution_count": 273,
   "id": "24817708-9f44-41c2-ac9e-e2b4c62dd521",
   "metadata": {},
   "outputs": [],
   "source": [
    "a  =index_encoding(df)"
   ]
  },
  {
   "cell_type": "code",
   "execution_count": null,
   "id": "0582fe00-9c09-4e81-929a-5f0a9d533b31",
   "metadata": {},
   "outputs": [],
   "source": []
  },
  {
   "cell_type": "code",
   "execution_count": null,
   "id": "bf5eac62-d65d-42c2-9213-27dd9cc10c7a",
   "metadata": {},
   "outputs": [],
   "source": []
  },
  {
   "cell_type": "code",
   "execution_count": null,
   "id": "19040dfc-41ee-4056-a061-5dba85288d47",
   "metadata": {},
   "outputs": [],
   "source": []
  },
  {
   "cell_type": "code",
   "execution_count": null,
   "id": "0fcdc858-2fff-40f1-927a-10df3ee49672",
   "metadata": {},
   "outputs": [],
   "source": []
  },
  {
   "cell_type": "markdown",
   "id": "96818b39-cd08-4e7f-ba42-44721bc10123",
   "metadata": {},
   "source": [
    "### Random Forest"
   ]
  },
  {
   "cell_type": "code",
   "execution_count": 352,
   "id": "fabc474e-09ee-434a-ae74-cad61177936b",
   "metadata": {},
   "outputs": [],
   "source": [
    "df_rf = aggregation_encoding(df)"
   ]
  },
  {
   "cell_type": "code",
   "execution_count": 354,
   "id": "86ac4cf2-179c-48d8-95a5-f87e24391119",
   "metadata": {},
   "outputs": [],
   "source": [
    "df_rf[\"avg_t\"] = df_rf[\"avg_t\"].map(lambda x : x.total_seconds())"
   ]
  },
  {
   "cell_type": "code",
   "execution_count": 355,
   "id": "d747c921-0433-47ff-8b77-8765c713757b",
   "metadata": {},
   "outputs": [],
   "source": [
    "df_grouped= df.groupby([\"caseid\"]).agg(list)\n",
    "df_rf[\"out\"] = df_grouped[\"outcome\"].map(lambda x : x[0])"
   ]
  },
  {
   "cell_type": "code",
   "execution_count": null,
   "id": "dd62f147-5331-4a97-8a0e-841eaa5e9a41",
   "metadata": {},
   "outputs": [],
   "source": []
  },
  {
   "cell_type": "code",
   "execution_count": 356,
   "id": "ff97b855-b619-43de-b612-45e48f58a412",
   "metadata": {},
   "outputs": [],
   "source": [
    "events = first_L_events(df,2)"
   ]
  },
  {
   "cell_type": "code",
   "execution_count": null,
   "id": "0ff0c7c8-f861-464c-b707-93ad7f49ccdc",
   "metadata": {},
   "outputs": [],
   "source": []
  },
  {
   "cell_type": "code",
   "execution_count": 357,
   "id": "8bd49db2-34f3-423d-8e24-32c4c67aa68b",
   "metadata": {},
   "outputs": [],
   "source": [
    "XY = df_rf[df_rf.index.isin(events[\"caseid\"])]"
   ]
  },
  {
   "cell_type": "code",
   "execution_count": 358,
   "id": "bbff90e0-eb81-4c00-883d-d9a6d2da238c",
   "metadata": {},
   "outputs": [],
   "source": [
    "labels = XY.pop('out').copy()\n",
    "data = XY.copy()"
   ]
  },
  {
   "cell_type": "code",
   "execution_count": 359,
   "id": "b1280621-7a44-4807-a6d3-fb03048de7d9",
   "metadata": {},
   "outputs": [],
   "source": [
    "X_train, X_test, y_train, y_test = train_test_split(data, labels, test_size=0.3)"
   ]
  },
  {
   "cell_type": "code",
   "execution_count": 360,
   "id": "3df6b5ad-f65f-4b5b-8645-0d0ecb1ed6db",
   "metadata": {},
   "outputs": [
    {
     "data": {
      "text/html": [
       "<style>#sk-container-id-2 {color: black;}#sk-container-id-2 pre{padding: 0;}#sk-container-id-2 div.sk-toggleable {background-color: white;}#sk-container-id-2 label.sk-toggleable__label {cursor: pointer;display: block;width: 100%;margin-bottom: 0;padding: 0.3em;box-sizing: border-box;text-align: center;}#sk-container-id-2 label.sk-toggleable__label-arrow:before {content: \"▸\";float: left;margin-right: 0.25em;color: #696969;}#sk-container-id-2 label.sk-toggleable__label-arrow:hover:before {color: black;}#sk-container-id-2 div.sk-estimator:hover label.sk-toggleable__label-arrow:before {color: black;}#sk-container-id-2 div.sk-toggleable__content {max-height: 0;max-width: 0;overflow: hidden;text-align: left;background-color: #f0f8ff;}#sk-container-id-2 div.sk-toggleable__content pre {margin: 0.2em;color: black;border-radius: 0.25em;background-color: #f0f8ff;}#sk-container-id-2 input.sk-toggleable__control:checked~div.sk-toggleable__content {max-height: 200px;max-width: 100%;overflow: auto;}#sk-container-id-2 input.sk-toggleable__control:checked~label.sk-toggleable__label-arrow:before {content: \"▾\";}#sk-container-id-2 div.sk-estimator input.sk-toggleable__control:checked~label.sk-toggleable__label {background-color: #d4ebff;}#sk-container-id-2 div.sk-label input.sk-toggleable__control:checked~label.sk-toggleable__label {background-color: #d4ebff;}#sk-container-id-2 input.sk-hidden--visually {border: 0;clip: rect(1px 1px 1px 1px);clip: rect(1px, 1px, 1px, 1px);height: 1px;margin: -1px;overflow: hidden;padding: 0;position: absolute;width: 1px;}#sk-container-id-2 div.sk-estimator {font-family: monospace;background-color: #f0f8ff;border: 1px dotted black;border-radius: 0.25em;box-sizing: border-box;margin-bottom: 0.5em;}#sk-container-id-2 div.sk-estimator:hover {background-color: #d4ebff;}#sk-container-id-2 div.sk-parallel-item::after {content: \"\";width: 100%;border-bottom: 1px solid gray;flex-grow: 1;}#sk-container-id-2 div.sk-label:hover label.sk-toggleable__label {background-color: #d4ebff;}#sk-container-id-2 div.sk-serial::before {content: \"\";position: absolute;border-left: 1px solid gray;box-sizing: border-box;top: 0;bottom: 0;left: 50%;z-index: 0;}#sk-container-id-2 div.sk-serial {display: flex;flex-direction: column;align-items: center;background-color: white;padding-right: 0.2em;padding-left: 0.2em;position: relative;}#sk-container-id-2 div.sk-item {position: relative;z-index: 1;}#sk-container-id-2 div.sk-parallel {display: flex;align-items: stretch;justify-content: center;background-color: white;position: relative;}#sk-container-id-2 div.sk-item::before, #sk-container-id-2 div.sk-parallel-item::before {content: \"\";position: absolute;border-left: 1px solid gray;box-sizing: border-box;top: 0;bottom: 0;left: 50%;z-index: -1;}#sk-container-id-2 div.sk-parallel-item {display: flex;flex-direction: column;z-index: 1;position: relative;background-color: white;}#sk-container-id-2 div.sk-parallel-item:first-child::after {align-self: flex-end;width: 50%;}#sk-container-id-2 div.sk-parallel-item:last-child::after {align-self: flex-start;width: 50%;}#sk-container-id-2 div.sk-parallel-item:only-child::after {width: 0;}#sk-container-id-2 div.sk-dashed-wrapped {border: 1px dashed gray;margin: 0 0.4em 0.5em 0.4em;box-sizing: border-box;padding-bottom: 0.4em;background-color: white;}#sk-container-id-2 div.sk-label label {font-family: monospace;font-weight: bold;display: inline-block;line-height: 1.2em;}#sk-container-id-2 div.sk-label-container {text-align: center;}#sk-container-id-2 div.sk-container {/* jupyter's `normalize.less` sets `[hidden] { display: none; }` but bootstrap.min.css set `[hidden] { display: none !important; }` so we also need the `!important` here to be able to override the default hidden behavior on the sphinx rendered scikit-learn.org. See: https://github.com/scikit-learn/scikit-learn/issues/21755 */display: inline-block !important;position: relative;}#sk-container-id-2 div.sk-text-repr-fallback {display: none;}</style><div id=\"sk-container-id-2\" class=\"sk-top-container\"><div class=\"sk-text-repr-fallback\"><pre>RandomForestClassifier(max_depth=5, oob_score=True)</pre><b>In a Jupyter environment, please rerun this cell to show the HTML representation or trust the notebook. <br />On GitHub, the HTML representation is unable to render, please try loading this page with nbviewer.org.</b></div><div class=\"sk-container\" hidden><div class=\"sk-item\"><div class=\"sk-estimator sk-toggleable\"><input class=\"sk-toggleable__control sk-hidden--visually\" id=\"sk-estimator-id-2\" type=\"checkbox\" checked><label for=\"sk-estimator-id-2\" class=\"sk-toggleable__label sk-toggleable__label-arrow\">RandomForestClassifier</label><div class=\"sk-toggleable__content\"><pre>RandomForestClassifier(max_depth=5, oob_score=True)</pre></div></div></div></div></div>"
      ],
      "text/plain": [
       "RandomForestClassifier(max_depth=5, oob_score=True)"
      ]
     },
     "execution_count": 360,
     "metadata": {},
     "output_type": "execute_result"
    }
   ],
   "source": [
    "clf = RandomForestClassifier(max_depth=5, oob_score=True)\n",
    "clf.fit(X_train, y_train)"
   ]
  },
  {
   "cell_type": "code",
   "execution_count": 361,
   "id": "0a73de5c-2fe9-45a8-a78c-bd4f1065ce5c",
   "metadata": {},
   "outputs": [],
   "source": [
    "prediction = clf.predict(X_test)"
   ]
  },
  {
   "cell_type": "code",
   "execution_count": 367,
   "id": "e59833e1-363e-4747-adcf-506608b61506",
   "metadata": {},
   "outputs": [],
   "source": [
    "from sklearn.metrics import accuracy_score"
   ]
  },
  {
   "cell_type": "code",
   "execution_count": null,
   "id": "c2196327-1294-4c0a-8962-cf4f202506af",
   "metadata": {},
   "outputs": [],
   "source": []
  },
  {
   "cell_type": "code",
   "execution_count": 368,
   "id": "175014cc-7254-4632-953c-67693c1e762a",
   "metadata": {},
   "outputs": [
    {
     "data": {
      "text/plain": [
       "1.0"
      ]
     },
     "execution_count": 368,
     "metadata": {},
     "output_type": "execute_result"
    }
   ],
   "source": [
    "accuracy_score(y_test, prediction)"
   ]
  },
  {
   "cell_type": "code",
   "execution_count": null,
   "id": "cdc93bbc-5fd5-4a21-b809-c32fb505e9fd",
   "metadata": {},
   "outputs": [],
   "source": []
  },
  {
   "cell_type": "markdown",
   "id": "158929ab-24d9-4e16-ab98-217fd97b5ab4",
   "metadata": {},
   "source": [
    "### Decision Tree"
   ]
  },
  {
   "cell_type": "code",
   "execution_count": 369,
   "id": "90cc803f-37ab-4db7-94c5-edbd006524f6",
   "metadata": {},
   "outputs": [
    {
     "data": {
      "text/html": [
       "<style>#sk-container-id-3 {color: black;}#sk-container-id-3 pre{padding: 0;}#sk-container-id-3 div.sk-toggleable {background-color: white;}#sk-container-id-3 label.sk-toggleable__label {cursor: pointer;display: block;width: 100%;margin-bottom: 0;padding: 0.3em;box-sizing: border-box;text-align: center;}#sk-container-id-3 label.sk-toggleable__label-arrow:before {content: \"▸\";float: left;margin-right: 0.25em;color: #696969;}#sk-container-id-3 label.sk-toggleable__label-arrow:hover:before {color: black;}#sk-container-id-3 div.sk-estimator:hover label.sk-toggleable__label-arrow:before {color: black;}#sk-container-id-3 div.sk-toggleable__content {max-height: 0;max-width: 0;overflow: hidden;text-align: left;background-color: #f0f8ff;}#sk-container-id-3 div.sk-toggleable__content pre {margin: 0.2em;color: black;border-radius: 0.25em;background-color: #f0f8ff;}#sk-container-id-3 input.sk-toggleable__control:checked~div.sk-toggleable__content {max-height: 200px;max-width: 100%;overflow: auto;}#sk-container-id-3 input.sk-toggleable__control:checked~label.sk-toggleable__label-arrow:before {content: \"▾\";}#sk-container-id-3 div.sk-estimator input.sk-toggleable__control:checked~label.sk-toggleable__label {background-color: #d4ebff;}#sk-container-id-3 div.sk-label input.sk-toggleable__control:checked~label.sk-toggleable__label {background-color: #d4ebff;}#sk-container-id-3 input.sk-hidden--visually {border: 0;clip: rect(1px 1px 1px 1px);clip: rect(1px, 1px, 1px, 1px);height: 1px;margin: -1px;overflow: hidden;padding: 0;position: absolute;width: 1px;}#sk-container-id-3 div.sk-estimator {font-family: monospace;background-color: #f0f8ff;border: 1px dotted black;border-radius: 0.25em;box-sizing: border-box;margin-bottom: 0.5em;}#sk-container-id-3 div.sk-estimator:hover {background-color: #d4ebff;}#sk-container-id-3 div.sk-parallel-item::after {content: \"\";width: 100%;border-bottom: 1px solid gray;flex-grow: 1;}#sk-container-id-3 div.sk-label:hover label.sk-toggleable__label {background-color: #d4ebff;}#sk-container-id-3 div.sk-serial::before {content: \"\";position: absolute;border-left: 1px solid gray;box-sizing: border-box;top: 0;bottom: 0;left: 50%;z-index: 0;}#sk-container-id-3 div.sk-serial {display: flex;flex-direction: column;align-items: center;background-color: white;padding-right: 0.2em;padding-left: 0.2em;position: relative;}#sk-container-id-3 div.sk-item {position: relative;z-index: 1;}#sk-container-id-3 div.sk-parallel {display: flex;align-items: stretch;justify-content: center;background-color: white;position: relative;}#sk-container-id-3 div.sk-item::before, #sk-container-id-3 div.sk-parallel-item::before {content: \"\";position: absolute;border-left: 1px solid gray;box-sizing: border-box;top: 0;bottom: 0;left: 50%;z-index: -1;}#sk-container-id-3 div.sk-parallel-item {display: flex;flex-direction: column;z-index: 1;position: relative;background-color: white;}#sk-container-id-3 div.sk-parallel-item:first-child::after {align-self: flex-end;width: 50%;}#sk-container-id-3 div.sk-parallel-item:last-child::after {align-self: flex-start;width: 50%;}#sk-container-id-3 div.sk-parallel-item:only-child::after {width: 0;}#sk-container-id-3 div.sk-dashed-wrapped {border: 1px dashed gray;margin: 0 0.4em 0.5em 0.4em;box-sizing: border-box;padding-bottom: 0.4em;background-color: white;}#sk-container-id-3 div.sk-label label {font-family: monospace;font-weight: bold;display: inline-block;line-height: 1.2em;}#sk-container-id-3 div.sk-label-container {text-align: center;}#sk-container-id-3 div.sk-container {/* jupyter's `normalize.less` sets `[hidden] { display: none; }` but bootstrap.min.css set `[hidden] { display: none !important; }` so we also need the `!important` here to be able to override the default hidden behavior on the sphinx rendered scikit-learn.org. See: https://github.com/scikit-learn/scikit-learn/issues/21755 */display: inline-block !important;position: relative;}#sk-container-id-3 div.sk-text-repr-fallback {display: none;}</style><div id=\"sk-container-id-3\" class=\"sk-top-container\"><div class=\"sk-text-repr-fallback\"><pre>RandomForestClassifier(max_depth=5, n_estimators=1, oob_score=True)</pre><b>In a Jupyter environment, please rerun this cell to show the HTML representation or trust the notebook. <br />On GitHub, the HTML representation is unable to render, please try loading this page with nbviewer.org.</b></div><div class=\"sk-container\" hidden><div class=\"sk-item\"><div class=\"sk-estimator sk-toggleable\"><input class=\"sk-toggleable__control sk-hidden--visually\" id=\"sk-estimator-id-3\" type=\"checkbox\" checked><label for=\"sk-estimator-id-3\" class=\"sk-toggleable__label sk-toggleable__label-arrow\">RandomForestClassifier</label><div class=\"sk-toggleable__content\"><pre>RandomForestClassifier(max_depth=5, n_estimators=1, oob_score=True)</pre></div></div></div></div></div>"
      ],
      "text/plain": [
       "RandomForestClassifier(max_depth=5, n_estimators=1, oob_score=True)"
      ]
     },
     "execution_count": 369,
     "metadata": {},
     "output_type": "execute_result"
    }
   ],
   "source": [
    "clf = RandomForestClassifier(max_depth=5, oob_score=True,n_estimators=1)\n",
    "clf.fit(X_train, y_train)"
   ]
  },
  {
   "cell_type": "code",
   "execution_count": 370,
   "id": "ef95ddf7-9678-4dcf-a0c6-bb1dd888fbf6",
   "metadata": {},
   "outputs": [],
   "source": [
    "prediction = clf.predict(X_test)"
   ]
  },
  {
   "cell_type": "code",
   "execution_count": 371,
   "id": "f63b983e-7568-4990-b86e-38c2fcb397a9",
   "metadata": {},
   "outputs": [
    {
     "data": {
      "text/plain": [
       "1.0"
      ]
     },
     "execution_count": 371,
     "metadata": {},
     "output_type": "execute_result"
    }
   ],
   "source": [
    "accuracy_score(y_test, prediction)"
   ]
  },
  {
   "cell_type": "code",
   "execution_count": null,
   "id": "b2ea33e5-a587-4f7a-94ec-3e1e34e51318",
   "metadata": {},
   "outputs": [],
   "source": []
  },
  {
   "cell_type": "code",
   "execution_count": null,
   "id": "32b88cb2-32b3-4d61-8877-4fba7d907910",
   "metadata": {},
   "outputs": [],
   "source": []
  },
  {
   "cell_type": "code",
   "execution_count": null,
   "id": "a7205bb3-1213-4504-9266-ef656064a3d3",
   "metadata": {},
   "outputs": [],
   "source": []
  }
 ],
 "metadata": {
  "kernelspec": {
   "display_name": "Python 3 (ipykernel)",
   "language": "python",
   "name": "python3"
  },
  "language_info": {
   "codemirror_mode": {
    "name": "ipython",
    "version": 3
   },
   "file_extension": ".py",
   "mimetype": "text/x-python",
   "name": "python",
   "nbconvert_exporter": "python",
   "pygments_lexer": "ipython3",
   "version": "3.11.6"
  }
 },
 "nbformat": 4,
 "nbformat_minor": 5
}
