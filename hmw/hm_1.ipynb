{
 "cells": [
  {
   "cell_type": "code",
   "execution_count": 1,
   "id": "742a8c6e-61b4-4d31-bd73-200f2ec677a3",
   "metadata": {},
   "outputs": [],
   "source": [
    "import pandas as pd"
   ]
  },
  {
   "cell_type": "markdown",
   "id": "408542a8-70f6-4efa-9ec0-c31082bd8593",
   "metadata": {},
   "source": [
    "Import an event log (csv format only) as a pandas dataframe"
   ]
  },
  {
   "cell_type": "code",
   "execution_count": 2,
   "id": "68c9e061-e5e1-47a7-bd65-04d8293db3b8",
   "metadata": {},
   "outputs": [],
   "source": [
    "df = pd.read_csv(\"Small.csv\")"
   ]
  },
  {
   "cell_type": "code",
   "execution_count": 3,
   "id": "caacf84e-47e4-40b9-9388-a5371bb06c70",
   "metadata": {},
   "outputs": [],
   "source": [
    "df[\"Complete Timestamp\"] = pd.to_datetime(df[\"Complete Timestamp\"])"
   ]
  },
  {
   "cell_type": "markdown",
   "id": "1545307d-55d7-4984-866a-8cb3b0561b59",
   "metadata": {},
   "source": [
    "Rename the attributes as “caseid, activity, ts” if names are different (ts is for timestamp!)"
   ]
  },
  {
   "cell_type": "code",
   "execution_count": 4,
   "id": "b4c09670-3f47-4aba-8f73-7bb888f65799",
   "metadata": {},
   "outputs": [],
   "source": [
    "df.columns = [\"caseid\", \"activity\", \"ts\", \"variant\", \"variantindex\"]"
   ]
  },
  {
   "cell_type": "markdown",
   "id": "2768937b-e5f0-4dcf-9889-44b4c4a8ff39",
   "metadata": {},
   "source": [
    "Create a new dataframe with columns caseid, list of events in a case (ordered by timestamp)"
   ]
  },
  {
   "cell_type": "code",
   "execution_count": 9,
   "id": "1232dd38-0827-4093-ba37-2363b11cea91",
   "metadata": {},
   "outputs": [],
   "source": [
    "df_1 = pd.DataFrame()\n",
    "df_1 = df[[\"caseid\",\"activity\",\"ts\"]].copy()\n",
    "df_1.sort_values(by=[\"caseid\",\"ts\"],inplace = True)"
   ]
  },
  {
   "cell_type": "code",
   "execution_count": 10,
   "id": "b0807c25-a89f-4424-a5ec-54a31042bff7",
   "metadata": {},
   "outputs": [
    {
     "data": {
      "text/html": [
       "<div>\n",
       "<style scoped>\n",
       "    .dataframe tbody tr th:only-of-type {\n",
       "        vertical-align: middle;\n",
       "    }\n",
       "\n",
       "    .dataframe tbody tr th {\n",
       "        vertical-align: top;\n",
       "    }\n",
       "\n",
       "    .dataframe thead th {\n",
       "        text-align: right;\n",
       "    }\n",
       "</style>\n",
       "<table border=\"1\" class=\"dataframe\">\n",
       "  <thead>\n",
       "    <tr style=\"text-align: right;\">\n",
       "      <th></th>\n",
       "      <th>caseid</th>\n",
       "      <th>activity</th>\n",
       "      <th>ts</th>\n",
       "    </tr>\n",
       "  </thead>\n",
       "  <tbody>\n",
       "    <tr>\n",
       "      <th>109049</th>\n",
       "      <td>case_0</td>\n",
       "      <td>Activity A</td>\n",
       "      <td>1970-01-01 09:00:00</td>\n",
       "    </tr>\n",
       "    <tr>\n",
       "      <th>109050</th>\n",
       "      <td>case_0</td>\n",
       "      <td>Activity B</td>\n",
       "      <td>1970-01-01 10:00:00</td>\n",
       "    </tr>\n",
       "    <tr>\n",
       "      <th>109051</th>\n",
       "      <td>case_0</td>\n",
       "      <td>Activity C</td>\n",
       "      <td>1970-01-01 11:00:00</td>\n",
       "    </tr>\n",
       "    <tr>\n",
       "      <th>109052</th>\n",
       "      <td>case_0</td>\n",
       "      <td>Activity D</td>\n",
       "      <td>1970-01-01 12:00:00</td>\n",
       "    </tr>\n",
       "    <tr>\n",
       "      <th>109053</th>\n",
       "      <td>case_0</td>\n",
       "      <td>Activity E</td>\n",
       "      <td>1970-01-01 13:00:00</td>\n",
       "    </tr>\n",
       "  </tbody>\n",
       "</table>\n",
       "</div>"
      ],
      "text/plain": [
       "        caseid    activity                  ts\n",
       "109049  case_0  Activity A 1970-01-01 09:00:00\n",
       "109050  case_0  Activity B 1970-01-01 10:00:00\n",
       "109051  case_0  Activity C 1970-01-01 11:00:00\n",
       "109052  case_0  Activity D 1970-01-01 12:00:00\n",
       "109053  case_0  Activity E 1970-01-01 13:00:00"
      ]
     },
     "execution_count": 10,
     "metadata": {},
     "output_type": "execute_result"
    }
   ],
   "source": [
    "df_1.head()"
   ]
  },
  {
   "cell_type": "markdown",
   "id": "337b00f8-4eb0-4365-9402-9f4dec9cb5ca",
   "metadata": {},
   "source": [
    "Augment the event log created at 4 with two new attributes: duration, event_number ",
    "duration = ts(last event in case) - ts(first event in case)\n",
    "\n",
    "Event_number: number of events in a case"
   ]
  },
  {
   "cell_type": "code",
   "execution_count": 78,
   "id": "97317cd1-ddf8-4f7a-96f2-f5a9e9c2e338",
   "metadata": {},
   "outputs": [],
   "source": [
    "df_2 = df_1.groupby([\"caseid\"]).agg(list).reset_index()[[\"caseid\",\"ts\"]]\n",
    "\n",
    "df_2[\"duration\"] = df_2[\"ts\"].map(lambda x: x[-1]-x[0])\n",
    "df_2[\"event_number\"] = df_2[\"ts\"].map(lambda x: len(x))\n"
   ]
  },
  {
   "cell_type": "markdown",
   "id": "40e75345-ec6b-4a79-8ac7-22d34eda4f8a",
   "metadata": {},
   "source": [
    "Find the longest/shortest case by duration - duration = ts(last event in case) - ts(first event in case)"
   ]
  },
  {
   "cell_type": "code",
   "execution_count": 88,
   "id": "54ba0ec9-6acc-4a51-b282-b001d853741b",
   "metadata": {},
   "outputs": [
    {
     "data": {
      "text/html": [
       "<div>\n",
       "<style scoped>\n",
       "    .dataframe tbody tr th:only-of-type {\n",
       "        vertical-align: middle;\n",
       "    }\n",
       "\n",
       "    .dataframe tbody tr th {\n",
       "        vertical-align: top;\n",
       "    }\n",
       "\n",
       "    .dataframe thead th {\n",
       "        text-align: right;\n",
       "    }\n",
       "</style>\n",
       "<table border=\"1\" class=\"dataframe\">\n",
       "  <thead>\n",
       "    <tr style=\"text-align: right;\">\n",
       "      <th></th>\n",
       "      <th>caseid</th>\n",
       "      <th>ts</th>\n",
       "      <th>duration</th>\n",
       "      <th>event_number</th>\n",
       "    </tr>\n",
       "  </thead>\n",
       "  <tbody>\n",
       "    <tr>\n",
       "      <th>0</th>\n",
       "      <td>case_0</td>\n",
       "      <td>[1970-01-01 09:00:00, 1970-01-01 10:00:00, 197...</td>\n",
       "      <td>0 days 06:00:00</td>\n",
       "      <td>7</td>\n",
       "    </tr>\n",
       "  </tbody>\n",
       "</table>\n",
       "</div>"
      ],
      "text/plain": [
       "   caseid                                                 ts        duration  \\\n",
       "0  case_0  [1970-01-01 09:00:00, 1970-01-01 10:00:00, 197... 0 days 06:00:00   \n",
       "\n",
       "   event_number  \n",
       "0             7  "
      ]
     },
     "execution_count": 88,
     "metadata": {},
     "output_type": "execute_result"
    }
   ],
   "source": [
    "df_2.sort_values(by=\"duration\").iloc[0:1]"
   ]
  },
  {
   "cell_type": "code",
   "execution_count": 89,
   "id": "2a140708-b9ae-4ee7-875d-7b5862cf2fdb",
   "metadata": {},
   "outputs": [
    {
     "data": {
      "text/html": [
       "<div>\n",
       "<style scoped>\n",
       "    .dataframe tbody tr th:only-of-type {\n",
       "        vertical-align: middle;\n",
       "    }\n",
       "\n",
       "    .dataframe tbody tr th {\n",
       "        vertical-align: top;\n",
       "    }\n",
       "\n",
       "    .dataframe thead th {\n",
       "        text-align: right;\n",
       "    }\n",
       "</style>\n",
       "<table border=\"1\" class=\"dataframe\">\n",
       "  <thead>\n",
       "    <tr style=\"text-align: right;\">\n",
       "      <th></th>\n",
       "      <th>caseid</th>\n",
       "      <th>ts</th>\n",
       "      <th>duration</th>\n",
       "      <th>event_number</th>\n",
       "    </tr>\n",
       "  </thead>\n",
       "  <tbody>\n",
       "    <tr>\n",
       "      <th>7135</th>\n",
       "      <td>case_517</td>\n",
       "      <td>[1970-01-01 09:00:00, 1970-01-01 10:00:00, 197...</td>\n",
       "      <td>0 days 09:00:00</td>\n",
       "      <td>10</td>\n",
       "    </tr>\n",
       "  </tbody>\n",
       "</table>\n",
       "</div>"
      ],
      "text/plain": [
       "        caseid                                                 ts  \\\n",
       "7135  case_517  [1970-01-01 09:00:00, 1970-01-01 10:00:00, 197...   \n",
       "\n",
       "            duration  event_number  \n",
       "7135 0 days 09:00:00            10  "
      ]
     },
     "execution_count": 89,
     "metadata": {},
     "output_type": "execute_result"
    }
   ],
   "source": [
    "df_2.sort_values(by=\"duration\").iloc[-2:-1]"
   ]
  },
  {
   "cell_type": "markdown",
   "id": "4fa6a31f-d159-4efc-8df7-214c79b5a4a1",
   "metadata": {},
   "source": [
    "Find the longest case(s) by number of events"
   ]
  },
  {
   "cell_type": "code",
   "execution_count": null,
   "id": "a9420374-7407-4e42-8ed1-165783baacc3",
   "metadata": {},
   "outputs": [],
   "source": [
    "df_2.sort_values(by=\"event_number\").iloc[-2:-1]"
   ]
  },
  {
   "cell_type": "code",
   "execution_count": null,
   "id": "83f23c92-bee6-42b2-b783-bed1f77b71e3",
   "metadata": {},
   "outputs": [],
   "source": []
  }
 ],
 "metadata": {
  "kernelspec": {
   "display_name": "Python 3 (ipykernel)",
   "language": "python",
   "name": "python3"
  },
  "language_info": {
   "codemirror_mode": {
    "name": "ipython",
    "version": 3
   },
   "file_extension": ".py",
   "mimetype": "text/x-python",
   "name": "python",
   "nbconvert_exporter": "python",
   "pygments_lexer": "ipython3",
   "version": "3.11.7"
  }
 },
 "nbformat": 4,
 "nbformat_minor": 5
}
