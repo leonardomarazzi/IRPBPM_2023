{
 "cells": [
  {
   "cell_type": "code",
   "execution_count": 2,
   "id": "742a8c6e-61b4-4d31-bd73-200f2ec677a3",
   "metadata": {},
   "outputs": [],
   "source": [
    "import pandas as pd"
   ]
  },
  {
   "cell_type": "code",
   "execution_count": 64,
   "id": "68c9e061-e5e1-47a7-bd65-04d8293db3b8",
   "metadata": {},
   "outputs": [],
   "source": [
    "df = pd.read_csv(\"Small.csv\")"
   ]
  },
  {
   "cell_type": "code",
   "execution_count": 65,
   "id": "caacf84e-47e4-40b9-9388-a5371bb06c70",
   "metadata": {},
   "outputs": [],
   "source": [
    "df[\"Complete Timestamp\"] = pd.to_datetime(df[\"Complete Timestamp\"])"
   ]
  },
  {
   "cell_type": "code",
   "execution_count": null,
   "id": "b3b9ff5e-400a-4c78-a3c3-f47317945e30",
   "metadata": {},
   "outputs": [],
   "source": []
  },
  {
   "cell_type": "code",
   "execution_count": null,
   "id": "42578e79-2696-4e90-9883-4bf4fa0cf0ba",
   "metadata": {},
   "outputs": [],
   "source": []
  },
  {
   "cell_type": "code",
   "execution_count": 66,
   "id": "b4c09670-3f47-4aba-8f73-7bb888f65799",
   "metadata": {},
   "outputs": [],
   "source": [
    "df.columns = [\"caseid\", \"activity\", \"ts\", \"variant\", \"variantindex\"]"
   ]
  },
  {
   "cell_type": "code",
   "execution_count": 75,
   "id": "50ea63a7-a28d-41dc-bce5-5844097b5513",
   "metadata": {},
   "outputs": [],
   "source": [
    "df_1 = pd.DataFrame()"
   ]
  },
  {
   "cell_type": "code",
   "execution_count": 76,
   "id": "1232dd38-0827-4093-ba37-2363b11cea91",
   "metadata": {},
   "outputs": [],
   "source": [
    "df_1 = df[[\"caseid\",\"activity\",\"ts\"]]"
   ]
  },
  {
   "cell_type": "code",
   "execution_count": 77,
   "id": "b0807c25-a89f-4424-a5ec-54a31042bff7",
   "metadata": {},
   "outputs": [
    {
     "name": "stderr",
     "output_type": "stream",
     "text": [
      "C:\\Users\\l.marazzi\\AppData\\Local\\Temp\\ipykernel_19800\\3881238973.py:1: SettingWithCopyWarning: \n",
      "A value is trying to be set on a copy of a slice from a DataFrame\n",
      "\n",
      "See the caveats in the documentation: https://pandas.pydata.org/pandas-docs/stable/user_guide/indexing.html#returning-a-view-versus-a-copy\n",
      "  df_1.sort_values(by=[\"caseid\",\"ts\"],inplace = True)\n"
     ]
    }
   ],
   "source": [
    "df_1.sort_values(by=[\"caseid\",\"ts\"],inplace = True)"
   ]
  },
  {
   "cell_type": "code",
   "execution_count": null,
   "id": "f5368733-2523-457b-80c4-db7a3b6de9db",
   "metadata": {},
   "outputs": [],
   "source": []
  },
  {
   "cell_type": "code",
   "execution_count": 78,
   "id": "97317cd1-ddf8-4f7a-96f2-f5a9e9c2e338",
   "metadata": {},
   "outputs": [],
   "source": [
    "df_2 = df_1.groupby([\"caseid\"]).agg(list).reset_index()[[\"caseid\",\"ts\"]]"
   ]
  },
  {
   "cell_type": "code",
   "execution_count": 82,
   "id": "2efec876-c163-4325-9224-491b5e75e7f2",
   "metadata": {},
   "outputs": [],
   "source": [
    "df_2[\"duration\"] = df_2[\"ts\"].map(lambda x: x[-1]-x[0])\n",
    "df_2[\"event_number\"] = df_2[\"ts\"].map(lambda x: len(x))"
   ]
  },
  {
   "cell_type": "code",
   "execution_count": 88,
   "id": "54ba0ec9-6acc-4a51-b282-b001d853741b",
   "metadata": {},
   "outputs": [
    {
     "data": {
      "text/html": [
       "<div>\n",
       "<style scoped>\n",
       "    .dataframe tbody tr th:only-of-type {\n",
       "        vertical-align: middle;\n",
       "    }\n",
       "\n",
       "    .dataframe tbody tr th {\n",
       "        vertical-align: top;\n",
       "    }\n",
       "\n",
       "    .dataframe thead th {\n",
       "        text-align: right;\n",
       "    }\n",
       "</style>\n",
       "<table border=\"1\" class=\"dataframe\">\n",
       "  <thead>\n",
       "    <tr style=\"text-align: right;\">\n",
       "      <th></th>\n",
       "      <th>caseid</th>\n",
       "      <th>ts</th>\n",
       "      <th>duration</th>\n",
       "      <th>event_number</th>\n",
       "    </tr>\n",
       "  </thead>\n",
       "  <tbody>\n",
       "    <tr>\n",
       "      <th>0</th>\n",
       "      <td>case_0</td>\n",
       "      <td>[1970-01-01 09:00:00, 1970-01-01 10:00:00, 197...</td>\n",
       "      <td>0 days 06:00:00</td>\n",
       "      <td>7</td>\n",
       "    </tr>\n",
       "  </tbody>\n",
       "</table>\n",
       "</div>"
      ],
      "text/plain": [
       "   caseid                                                 ts        duration  \\\n",
       "0  case_0  [1970-01-01 09:00:00, 1970-01-01 10:00:00, 197... 0 days 06:00:00   \n",
       "\n",
       "   event_number  \n",
       "0             7  "
      ]
     },
     "execution_count": 88,
     "metadata": {},
     "output_type": "execute_result"
    }
   ],
   "source": [
    "df_2.sort_values(by=\"duration\").iloc[0:1]"
   ]
  },
  {
   "cell_type": "code",
   "execution_count": 89,
   "id": "2a140708-b9ae-4ee7-875d-7b5862cf2fdb",
   "metadata": {},
   "outputs": [
    {
     "data": {
      "text/html": [
       "<div>\n",
       "<style scoped>\n",
       "    .dataframe tbody tr th:only-of-type {\n",
       "        vertical-align: middle;\n",
       "    }\n",
       "\n",
       "    .dataframe tbody tr th {\n",
       "        vertical-align: top;\n",
       "    }\n",
       "\n",
       "    .dataframe thead th {\n",
       "        text-align: right;\n",
       "    }\n",
       "</style>\n",
       "<table border=\"1\" class=\"dataframe\">\n",
       "  <thead>\n",
       "    <tr style=\"text-align: right;\">\n",
       "      <th></th>\n",
       "      <th>caseid</th>\n",
       "      <th>ts</th>\n",
       "      <th>duration</th>\n",
       "      <th>event_number</th>\n",
       "    </tr>\n",
       "  </thead>\n",
       "  <tbody>\n",
       "    <tr>\n",
       "      <th>7135</th>\n",
       "      <td>case_517</td>\n",
       "      <td>[1970-01-01 09:00:00, 1970-01-01 10:00:00, 197...</td>\n",
       "      <td>0 days 09:00:00</td>\n",
       "      <td>10</td>\n",
       "    </tr>\n",
       "  </tbody>\n",
       "</table>\n",
       "</div>"
      ],
      "text/plain": [
       "        caseid                                                 ts  \\\n",
       "7135  case_517  [1970-01-01 09:00:00, 1970-01-01 10:00:00, 197...   \n",
       "\n",
       "            duration  event_number  \n",
       "7135 0 days 09:00:00            10  "
      ]
     },
     "execution_count": 89,
     "metadata": {},
     "output_type": "execute_result"
    }
   ],
   "source": [
    "df_2.sort_values(by=\"duration\").iloc[-2:-1]"
   ]
  },
  {
   "cell_type": "code",
   "execution_count": 90,
   "id": "a9420374-7407-4e42-8ed1-165783baacc3",
   "metadata": {},
   "outputs": [
    {
     "data": {
      "text/html": [
       "<div>\n",
       "<style scoped>\n",
       "    .dataframe tbody tr th:only-of-type {\n",
       "        vertical-align: middle;\n",
       "    }\n",
       "\n",
       "    .dataframe tbody tr th {\n",
       "        vertical-align: top;\n",
       "    }\n",
       "\n",
       "    .dataframe thead th {\n",
       "        text-align: right;\n",
       "    }\n",
       "</style>\n",
       "<table border=\"1\" class=\"dataframe\">\n",
       "  <thead>\n",
       "    <tr style=\"text-align: right;\">\n",
       "      <th></th>\n",
       "      <th>caseid</th>\n",
       "      <th>ts</th>\n",
       "      <th>duration</th>\n",
       "      <th>event_number</th>\n",
       "    </tr>\n",
       "  </thead>\n",
       "  <tbody>\n",
       "    <tr>\n",
       "      <th>7135</th>\n",
       "      <td>case_517</td>\n",
       "      <td>[1970-01-01 09:00:00, 1970-01-01 10:00:00, 197...</td>\n",
       "      <td>0 days 09:00:00</td>\n",
       "      <td>10</td>\n",
       "    </tr>\n",
       "  </tbody>\n",
       "</table>\n",
       "</div>"
      ],
      "text/plain": [
       "        caseid                                                 ts  \\\n",
       "7135  case_517  [1970-01-01 09:00:00, 1970-01-01 10:00:00, 197...   \n",
       "\n",
       "            duration  event_number  \n",
       "7135 0 days 09:00:00            10  "
      ]
     },
     "execution_count": 90,
     "metadata": {},
     "output_type": "execute_result"
    }
   ],
   "source": [
    "df_2.sort_values(by=\"event_number\").iloc[-2:-1]"
   ]
  },
  {
   "cell_type": "code",
   "execution_count": null,
   "id": "83f23c92-bee6-42b2-b783-bed1f77b71e3",
   "metadata": {},
   "outputs": [],
   "source": []
  }
 ],
 "metadata": {
  "kernelspec": {
   "display_name": "Python 3 (ipykernel)",
   "language": "python",
   "name": "python3"
  },
  "language_info": {
   "codemirror_mode": {
    "name": "ipython",
    "version": 3
   },
   "file_extension": ".py",
   "mimetype": "text/x-python",
   "name": "python",
   "nbconvert_exporter": "python",
   "pygments_lexer": "ipython3",
   "version": "3.11.6"
  }
 },
 "nbformat": 4,
 "nbformat_minor": 5
}
