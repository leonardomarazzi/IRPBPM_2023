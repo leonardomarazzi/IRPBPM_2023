{
 "cells": [
  {
   "cell_type": "markdown",
   "metadata": {},
   "source": [
    "# Prject of ana and leo"
   ]
  },
  {
   "cell_type": "code",
   "execution_count": 32,
   "metadata": {},
   "outputs": [],
   "source": [
    "import pandas as pd\n",
    "import statistics\n",
    "import warnings\n",
    "from sklearn.ensemble import RandomForestClassifier\n",
    "from sklearn.datasets import make_classification\n",
    "from sklearn.model_selection import train_test_split\n",
    "import function\n",
    "\n",
    "warnings.filterwarnings('ignore')"
   ]
  },
  {
   "cell_type": "markdown",
   "metadata": {},
   "source": [
    "## Data loading"
   ]
  },
  {
   "cell_type": "code",
   "execution_count": 35,
   "metadata": {},
   "outputs": [],
   "source": [
    "df = pd.read_csv(\"data/Sampled_BPIC17_offer_log.csv\")"
   ]
  },
  {
   "cell_type": "code",
   "execution_count": 36,
   "metadata": {},
   "outputs": [],
   "source": []
  },
  {
   "cell_type": "code",
   "execution_count": null,
   "metadata": {},
   "outputs": [],
   "source": []
  },
  {
   "cell_type": "markdown",
   "metadata": {},
   "source": [
    "## Data preprocessing"
   ]
  },
  {
   "cell_type": "code",
   "execution_count": 50,
   "metadata": {},
   "outputs": [],
   "source": [
    "input = {\n",
    "    \"Case ID\" : \"caseid\",\n",
    "    \"Activity\" : \"activity\" ,\n",
    "    \"Reouce\" : \"resource\" ,\n",
    "    \"Complete Timestamp\": \"ts\",\n",
    "    \"(case) Accepted\" : \"y\"  \n",
    "}\n",
    "\n",
    "# Change columns name\n",
    "df.rename(columns=input,inplace = True)\n",
    "\n",
    "# Timestamp value in df\n",
    "df[\"ts\"] = pd.to_datetime(df[\"ts\"])\n",
    "\n",
    "df[\"dt\"] = function.dt(df)\n"
   ]
  },
  {
   "cell_type": "code",
   "execution_count": 53,
   "metadata": {},
   "outputs": [
    {
     "name": "stdout",
     "output_type": "stream",
     "text": [
      "<class 'pandas.core.frame.DataFrame'>\n",
      "RangeIndex: 22409 entries, 0 to 22408\n",
      "Data columns (total 21 columns):\n",
      " #   Column                        Non-Null Count  Dtype          \n",
      "---  ------                        --------------  -----          \n",
      " 0   index                         22409 non-null  int64          \n",
      " 1   caseid                        22409 non-null  object         \n",
      " 2   activity                      22409 non-null  object         \n",
      " 3   Resource                      22409 non-null  object         \n",
      " 4   ts                            22409 non-null  datetime64[ns] \n",
      " 5   Variant                       22409 non-null  object         \n",
      " 6   Variant index                 22409 non-null  int64          \n",
      " 7   y                             22409 non-null  bool           \n",
      " 8   (case) ApplicationID          22409 non-null  object         \n",
      " 9   (case) CreditScore            22409 non-null  int64          \n",
      " 10  (case) FirstWithdrawalAmount  22409 non-null  float64        \n",
      " 11  (case) MonthlyCost            22409 non-null  float64        \n",
      " 12  (case) NumberOfTerms          22409 non-null  int64          \n",
      " 13  (case) OfferedAmount          22409 non-null  float64        \n",
      " 14  (case) Selected               22409 non-null  bool           \n",
      " 15  Action                        22409 non-null  object         \n",
      " 16  EventID                       22409 non-null  object         \n",
      " 17  EventOrigin                   22409 non-null  object         \n",
      " 18  OfferID                       17409 non-null  object         \n",
      " 19  lifecycle:transition          22409 non-null  object         \n",
      " 20  dt                            22409 non-null  timedelta64[ns]\n",
      "dtypes: bool(2), datetime64[ns](1), float64(3), int64(4), object(10), timedelta64[ns](1)\n",
      "memory usage: 3.3+ MB\n"
     ]
    }
   ],
   "source": [
    "df.info()"
   ]
  },
  {
   "cell_type": "markdown",
   "metadata": {},
   "source": [
    "## Logs encoding"
   ]
  },
  {
   "cell_type": "code",
   "execution_count": null,
   "metadata": {},
   "outputs": [],
   "source": []
  },
  {
   "cell_type": "code",
   "execution_count": null,
   "metadata": {},
   "outputs": [],
   "source": []
  },
  {
   "cell_type": "markdown",
   "metadata": {},
   "source": [
    "## Model selection"
   ]
  },
  {
   "cell_type": "code",
   "execution_count": null,
   "metadata": {},
   "outputs": [],
   "source": []
  },
  {
   "cell_type": "markdown",
   "metadata": {},
   "source": [
    "## Evaluation of results"
   ]
  },
  {
   "cell_type": "code",
   "execution_count": null,
   "metadata": {},
   "outputs": [],
   "source": []
  },
  {
   "cell_type": "code",
   "execution_count": null,
   "metadata": {},
   "outputs": [],
   "source": []
  }
 ],
 "metadata": {
  "kernelspec": {
   "display_name": "Python 3",
   "language": "python",
   "name": "python3"
  },
  "language_info": {
   "codemirror_mode": {
    "name": "ipython",
    "version": 3
   },
   "file_extension": ".py",
   "mimetype": "text/x-python",
   "name": "python",
   "nbconvert_exporter": "python",
   "pygments_lexer": "ipython3",
   "version": "3.11.6"
  }
 },
 "nbformat": 4,
 "nbformat_minor": 2
}
