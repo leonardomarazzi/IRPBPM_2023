{
 "cells": [
  {
   "cell_type": "markdown",
   "metadata": {},
   "source": [
    "# Business Process Mining Project \n",
    "### by Ana Drmic and Leonardo Marazzi"
   ]
  },
  {
   "cell_type": "markdown",
   "metadata": {},
   "source": [
    "## Description of the project"
   ]
  },
  {
   "cell_type": "markdown",
   "metadata": {},
   "source": [
    "What does the notebook do\n",
    "\n",
    "The parts that are present in the notebook"
   ]
  },
  {
   "cell_type": "markdown",
   "metadata": {},
   "source": [
    "## Imports"
   ]
  },
  {
   "cell_type": "code",
   "execution_count": 1,
   "metadata": {},
   "outputs": [],
   "source": [
    "import pandas as pd\n",
    "import statistics\n",
    "import warnings\n",
    "from sklearn.ensemble import RandomForestClassifier\n",
    "from sklearn.datasets import make_classification\n",
    "from sklearn.model_selection import train_test_split\n",
    "from function import Utils\n",
    "from sklearn.impute import SimpleImputer\n",
    "from sklearn.preprocessing import StandardScaler, OneHotEncoder\n",
    "from sklearn.compose import ColumnTransformer\n",
    "from sklearn.pipeline import Pipeline\n",
    "from pandas.api.types import is_numeric_dtype\n",
    "import numpy as np\n",
    "import h2o\n",
    "from h2o.automl import H2OAutoML\n",
    "from IPython.display import display\n",
    "warnings.filterwarnings('ignore')"
   ]
  },
  {
   "cell_type": "markdown",
   "metadata": {},
   "source": [
    "## Data loading"
   ]
  },
  {
   "cell_type": "code",
   "execution_count": 2,
   "metadata": {},
   "outputs": [],
   "source": [
    "df = pd.read_csv(\"hmw/Sampled_BPIC17_offer_log.csv\")"
   ]
  },
  {
   "cell_type": "markdown",
   "metadata": {},
   "source": [
    "## Preprocessing"
   ]
  },
  {
   "cell_type": "markdown",
   "metadata": {},
   "source": [
    "In the first section we wanted to map the most important featur that are mandatory to the logs:\n",
    "\n",
    "-caseid\n",
    "\n",
    "-activity\n",
    "\n",
    "-resource\n",
    "\n",
    "-ts (time stamp)\n",
    "\n",
    "-y (target of the Machine learning study)\n",
    "\n",
    "We then change the name of the columns to be able to use them automaticly"
   ]
  },
  {
   "cell_type": "code",
   "execution_count": 3,
   "metadata": {},
   "outputs": [],
   "source": [
    "input = {\n",
    "    \"Case ID\" : \"caseid\",\n",
    "    \"Activity\" : \"activity\" ,\n",
    "    \"Resource\" : \"resource\" ,\n",
    "    \"Complete Timestamp\": \"ts\",\n",
    "    \"(case) Accepted\" : \"y\"  #Needs to be 1 for each Case\n",
    "}\n",
    "\n",
    "# Change columns name\n",
    "df.rename(columns=input,inplace = True)\n",
    "\n",
    "# Timestamp value in df\n",
    "df[\"ts\"] = pd.to_datetime(df[\"ts\"])\n",
    "\n",
    "# This is our first function that calculate for each row the assosiated delta time\n",
    "df[\"dt\"] = Utils.dt(df) \n",
    "\n",
    "df.drop(\"ts\",axis=1,inplace = True)"
   ]
  },
  {
   "cell_type": "markdown",
   "metadata": {},
   "source": [
    "## Missing value analysis\n",
    "\n",
    "We plot the persantage of missing value for each column"
   ]
  },
  {
   "cell_type": "code",
   "execution_count": 4,
   "metadata": {},
   "outputs": [
    {
     "data": {
      "text/plain": [
       "index                            0.000000\n",
       "caseid                           0.000000\n",
       "activity                         0.000000\n",
       "resource                         0.000000\n",
       "Variant                          0.000000\n",
       "Variant index                    0.000000\n",
       "y                                0.000000\n",
       "(case) ApplicationID             0.000000\n",
       "(case) CreditScore               0.000000\n",
       "(case) FirstWithdrawalAmount     0.000000\n",
       "(case) MonthlyCost               0.000000\n",
       "(case) NumberOfTerms             0.000000\n",
       "(case) OfferedAmount             0.000000\n",
       "(case) Selected                  0.000000\n",
       "Action                           0.000000\n",
       "EventID                          0.000000\n",
       "EventOrigin                      0.000000\n",
       "OfferID                         22.312464\n",
       "lifecycle:transition             0.000000\n",
       "dt                               0.000000\n",
       "dtype: float64"
      ]
     },
     "execution_count": 4,
     "metadata": {},
     "output_type": "execute_result"
    }
   ],
   "source": [
    "Utils.persantage_nan(df)"
   ]
  },
  {
   "cell_type": "markdown",
   "metadata": {},
   "source": [
    "### Null value Prediction\n",
    "\n",
    "We builded a function that given the column with null values it will train a random forest and replace the column with the predicted values and add a new column to the DataFrame to show which value are predicted and wich are not.\n"
   ]
  },
  {
   "cell_type": "code",
   "execution_count": 5,
   "metadata": {},
   "outputs": [],
   "source": [
    "df,model_null_OfferID = Utils.predict_null_value(colum=\"OfferID\",df=df)"
   ]
  },
  {
   "cell_type": "code",
   "execution_count": 6,
   "metadata": {},
   "outputs": [
    {
     "data": {
      "text/html": [
       "<div>\n",
       "<style scoped>\n",
       "    .dataframe tbody tr th:only-of-type {\n",
       "        vertical-align: middle;\n",
       "    }\n",
       "\n",
       "    .dataframe tbody tr th {\n",
       "        vertical-align: top;\n",
       "    }\n",
       "\n",
       "    .dataframe thead th {\n",
       "        text-align: right;\n",
       "    }\n",
       "</style>\n",
       "<table border=\"1\" class=\"dataframe\">\n",
       "  <thead>\n",
       "    <tr style=\"text-align: right;\">\n",
       "      <th></th>\n",
       "      <th>index</th>\n",
       "      <th>caseid</th>\n",
       "      <th>activity</th>\n",
       "      <th>resource</th>\n",
       "      <th>Variant</th>\n",
       "      <th>Variant index</th>\n",
       "      <th>y</th>\n",
       "      <th>(case) ApplicationID</th>\n",
       "      <th>(case) CreditScore</th>\n",
       "      <th>(case) FirstWithdrawalAmount</th>\n",
       "      <th>...</th>\n",
       "      <th>(case) NumberOfTerms</th>\n",
       "      <th>(case) OfferedAmount</th>\n",
       "      <th>(case) Selected</th>\n",
       "      <th>Action</th>\n",
       "      <th>EventID</th>\n",
       "      <th>EventOrigin</th>\n",
       "      <th>OfferID</th>\n",
       "      <th>lifecycle:transition</th>\n",
       "      <th>dt</th>\n",
       "      <th>OfferID_was_null</th>\n",
       "    </tr>\n",
       "  </thead>\n",
       "  <tbody>\n",
       "    <tr>\n",
       "      <th>0</th>\n",
       "      <td>0</td>\n",
       "      <td>Offer_247135719</td>\n",
       "      <td>O_Create Offer</td>\n",
       "      <td>User_17</td>\n",
       "      <td>Variant 8</td>\n",
       "      <td>8</td>\n",
       "      <td>True</td>\n",
       "      <td>Application_196483749</td>\n",
       "      <td>0</td>\n",
       "      <td>10000.0</td>\n",
       "      <td>...</td>\n",
       "      <td>57</td>\n",
       "      <td>10000.0</td>\n",
       "      <td>False</td>\n",
       "      <td>Created</td>\n",
       "      <td>Offer_247135719</td>\n",
       "      <td>Offer</td>\n",
       "      <td>Offer_247135719</td>\n",
       "      <td>complete</td>\n",
       "      <td>0 days 00:00:03.042000</td>\n",
       "      <td>True</td>\n",
       "    </tr>\n",
       "    <tr>\n",
       "      <th>1</th>\n",
       "      <td>1</td>\n",
       "      <td>Offer_247135719</td>\n",
       "      <td>O_Created</td>\n",
       "      <td>User_17</td>\n",
       "      <td>Variant 8</td>\n",
       "      <td>8</td>\n",
       "      <td>True</td>\n",
       "      <td>Application_196483749</td>\n",
       "      <td>0</td>\n",
       "      <td>10000.0</td>\n",
       "      <td>...</td>\n",
       "      <td>57</td>\n",
       "      <td>10000.0</td>\n",
       "      <td>False</td>\n",
       "      <td>statechange</td>\n",
       "      <td>OfferState_124849367</td>\n",
       "      <td>Offer</td>\n",
       "      <td>Offer_247135719</td>\n",
       "      <td>complete</td>\n",
       "      <td>0 days 00:02:12.568000</td>\n",
       "      <td>False</td>\n",
       "    </tr>\n",
       "    <tr>\n",
       "      <th>2</th>\n",
       "      <td>2</td>\n",
       "      <td>Offer_247135719</td>\n",
       "      <td>O_Sent (online only)</td>\n",
       "      <td>User_17</td>\n",
       "      <td>Variant 8</td>\n",
       "      <td>8</td>\n",
       "      <td>True</td>\n",
       "      <td>Application_196483749</td>\n",
       "      <td>0</td>\n",
       "      <td>10000.0</td>\n",
       "      <td>...</td>\n",
       "      <td>57</td>\n",
       "      <td>10000.0</td>\n",
       "      <td>False</td>\n",
       "      <td>statechange</td>\n",
       "      <td>OfferState_440662877</td>\n",
       "      <td>Offer</td>\n",
       "      <td>Offer_247135719</td>\n",
       "      <td>complete</td>\n",
       "      <td>0 days 00:02:04.704000</td>\n",
       "      <td>False</td>\n",
       "    </tr>\n",
       "    <tr>\n",
       "      <th>3</th>\n",
       "      <td>3</td>\n",
       "      <td>Offer_247135719</td>\n",
       "      <td>O_Cancelled</td>\n",
       "      <td>User_17</td>\n",
       "      <td>Variant 8</td>\n",
       "      <td>8</td>\n",
       "      <td>True</td>\n",
       "      <td>Application_196483749</td>\n",
       "      <td>0</td>\n",
       "      <td>10000.0</td>\n",
       "      <td>...</td>\n",
       "      <td>57</td>\n",
       "      <td>10000.0</td>\n",
       "      <td>False</td>\n",
       "      <td>statechange</td>\n",
       "      <td>OfferState_591416028</td>\n",
       "      <td>Offer</td>\n",
       "      <td>Offer_247135719</td>\n",
       "      <td>complete</td>\n",
       "      <td>0 days 00:02:04.704000</td>\n",
       "      <td>False</td>\n",
       "    </tr>\n",
       "    <tr>\n",
       "      <th>4</th>\n",
       "      <td>4</td>\n",
       "      <td>Offer_941964966</td>\n",
       "      <td>O_Create Offer</td>\n",
       "      <td>User_17</td>\n",
       "      <td>Variant 1</td>\n",
       "      <td>1</td>\n",
       "      <td>True</td>\n",
       "      <td>Application_196483749</td>\n",
       "      <td>0</td>\n",
       "      <td>4100.0</td>\n",
       "      <td>...</td>\n",
       "      <td>57</td>\n",
       "      <td>10000.0</td>\n",
       "      <td>False</td>\n",
       "      <td>Created</td>\n",
       "      <td>Offer_941964966</td>\n",
       "      <td>Offer</td>\n",
       "      <td>Offer_941964966</td>\n",
       "      <td>complete</td>\n",
       "      <td>0 days 00:00:01.551000</td>\n",
       "      <td>True</td>\n",
       "    </tr>\n",
       "  </tbody>\n",
       "</table>\n",
       "<p>5 rows × 21 columns</p>\n",
       "</div>"
      ],
      "text/plain": [
       "   index           caseid              activity resource    Variant  \\\n",
       "0      0  Offer_247135719        O_Create Offer  User_17  Variant 8   \n",
       "1      1  Offer_247135719             O_Created  User_17  Variant 8   \n",
       "2      2  Offer_247135719  O_Sent (online only)  User_17  Variant 8   \n",
       "3      3  Offer_247135719           O_Cancelled  User_17  Variant 8   \n",
       "4      4  Offer_941964966        O_Create Offer  User_17  Variant 1   \n",
       "\n",
       "   Variant index     y   (case) ApplicationID  (case) CreditScore  \\\n",
       "0              8  True  Application_196483749                   0   \n",
       "1              8  True  Application_196483749                   0   \n",
       "2              8  True  Application_196483749                   0   \n",
       "3              8  True  Application_196483749                   0   \n",
       "4              1  True  Application_196483749                   0   \n",
       "\n",
       "   (case) FirstWithdrawalAmount  ...  (case) NumberOfTerms  \\\n",
       "0                       10000.0  ...                    57   \n",
       "1                       10000.0  ...                    57   \n",
       "2                       10000.0  ...                    57   \n",
       "3                       10000.0  ...                    57   \n",
       "4                        4100.0  ...                    57   \n",
       "\n",
       "   (case) OfferedAmount  (case) Selected       Action               EventID  \\\n",
       "0               10000.0            False      Created       Offer_247135719   \n",
       "1               10000.0            False  statechange  OfferState_124849367   \n",
       "2               10000.0            False  statechange  OfferState_440662877   \n",
       "3               10000.0            False  statechange  OfferState_591416028   \n",
       "4               10000.0            False      Created       Offer_941964966   \n",
       "\n",
       "  EventOrigin          OfferID lifecycle:transition                     dt  \\\n",
       "0       Offer  Offer_247135719             complete 0 days 00:00:03.042000   \n",
       "1       Offer  Offer_247135719             complete 0 days 00:02:12.568000   \n",
       "2       Offer  Offer_247135719             complete 0 days 00:02:04.704000   \n",
       "3       Offer  Offer_247135719             complete 0 days 00:02:04.704000   \n",
       "4       Offer  Offer_941964966             complete 0 days 00:00:01.551000   \n",
       "\n",
       "  OfferID_was_null  \n",
       "0             True  \n",
       "1            False  \n",
       "2            False  \n",
       "3            False  \n",
       "4             True  \n",
       "\n",
       "[5 rows x 21 columns]"
      ]
     },
     "execution_count": 6,
     "metadata": {},
     "output_type": "execute_result"
    }
   ],
   "source": [
    "df = Utils.prod_nan_with_treshold(df)\n",
    "df.head()"
   ]
  },
  {
   "cell_type": "markdown",
   "metadata": {},
   "source": [
    "## Encoding\n",
    "\n",
    "### Group by CaseId\n",
    "\n",
    "Afther we have preprocessed the data we can group by caseid and start working on the encoding"
   ]
  },
  {
   "cell_type": "code",
   "execution_count": 7,
   "metadata": {},
   "outputs": [],
   "source": [
    "df_grouped = df.groupby([\"caseid\"]).agg(list).reset_index()"
   ]
  },
  {
   "cell_type": "markdown",
   "metadata": {},
   "source": [
    "When we group by caseid some columns will have a list of list with only one value per row.\n",
    "\n",
    "This function efficiently reduce these feature to one single value"
   ]
  },
  {
   "cell_type": "code",
   "execution_count": 8,
   "metadata": {},
   "outputs": [],
   "source": [
    "df_grouped = Utils.reduce_list_columns(df_grouped)"
   ]
  },
  {
   "cell_type": "markdown",
   "metadata": {},
   "source": [
    "The following function display the columns that need to be encoded.\n"
   ]
  },
  {
   "cell_type": "code",
   "execution_count": 9,
   "metadata": {},
   "outputs": [
    {
     "data": {
      "text/html": [
       "<div>\n",
       "<style scoped>\n",
       "    .dataframe tbody tr th:only-of-type {\n",
       "        vertical-align: middle;\n",
       "    }\n",
       "\n",
       "    .dataframe tbody tr th {\n",
       "        vertical-align: top;\n",
       "    }\n",
       "\n",
       "    .dataframe thead th {\n",
       "        text-align: right;\n",
       "    }\n",
       "</style>\n",
       "<table border=\"1\" class=\"dataframe\">\n",
       "  <thead>\n",
       "    <tr style=\"text-align: right;\">\n",
       "      <th></th>\n",
       "      <th>activity</th>\n",
       "      <th>resource</th>\n",
       "      <th>Action</th>\n",
       "      <th>EventID</th>\n",
       "      <th>OfferID</th>\n",
       "      <th>dt</th>\n",
       "      <th>OfferID_was_null</th>\n",
       "    </tr>\n",
       "  </thead>\n",
       "  <tbody>\n",
       "    <tr>\n",
       "      <th>0</th>\n",
       "      <td>[O_Create Offer, O_Created, O_Sent (mail and o...</td>\n",
       "      <td>[User_20, User_20, User_20, User_117, User_115]</td>\n",
       "      <td>[Created, statechange, statechange, statechang...</td>\n",
       "      <td>[Offer_1000681710, OfferState_452902905, Offer...</td>\n",
       "      <td>[Offer_520979602, Offer_1000681710, Offer_1000...</td>\n",
       "      <td>[0 days 00:00:01.663000, 0 days 00:00:19.05600...</td>\n",
       "      <td>[True, False, False, False, False]</td>\n",
       "    </tr>\n",
       "    <tr>\n",
       "      <th>1</th>\n",
       "      <td>[O_Create Offer, O_Created, O_Sent (mail and o...</td>\n",
       "      <td>[User_2, User_2, User_2, User_113, User_30]</td>\n",
       "      <td>[Created, statechange, statechange, statechang...</td>\n",
       "      <td>[Offer_1001553250, OfferState_1604351174, Offe...</td>\n",
       "      <td>[Offer_533969936, Offer_1001553250, Offer_1001...</td>\n",
       "      <td>[0 days 00:00:01.188000, 0 days 00:00:15.47200...</td>\n",
       "      <td>[True, False, False, False, False]</td>\n",
       "    </tr>\n",
       "    <tr>\n",
       "      <th>2</th>\n",
       "      <td>[O_Create Offer, O_Created, O_Sent (mail and o...</td>\n",
       "      <td>[User_85, User_85, User_85, User_117, User_118]</td>\n",
       "      <td>[Created, statechange, statechange, statechang...</td>\n",
       "      <td>[Offer_1002136393, OfferState_1608457034, Offe...</td>\n",
       "      <td>[Offer_520979602, Offer_1002136393, Offer_1002...</td>\n",
       "      <td>[0 days 00:00:01.293000, 0 days 00:00:19.55600...</td>\n",
       "      <td>[True, False, False, False, False]</td>\n",
       "    </tr>\n",
       "    <tr>\n",
       "      <th>3</th>\n",
       "      <td>[O_Create Offer, O_Created, O_Sent (mail and o...</td>\n",
       "      <td>[User_49, User_49, User_49, User_113, User_102]</td>\n",
       "      <td>[Created, statechange, statechange, statechang...</td>\n",
       "      <td>[Offer_1002236598, OfferState_1780384890, Offe...</td>\n",
       "      <td>[Offer_1043318048, Offer_1002236598, Offer_100...</td>\n",
       "      <td>[0 days 00:00:01.269000, 0 days 00:00:11.34800...</td>\n",
       "      <td>[True, False, False, False, False]</td>\n",
       "    </tr>\n",
       "    <tr>\n",
       "      <th>4</th>\n",
       "      <td>[O_Create Offer, O_Created, O_Sent (mail and o...</td>\n",
       "      <td>[User_15, User_15, User_15, User_1]</td>\n",
       "      <td>[Created, statechange, statechange, statechange]</td>\n",
       "      <td>[Offer_1002530118, OfferState_1971804832, Offe...</td>\n",
       "      <td>[Offer_1726748288, Offer_1002530118, Offer_100...</td>\n",
       "      <td>[0 days 00:00:01.216000, 0 days 00:00:20.01800...</td>\n",
       "      <td>[True, False, False, False]</td>\n",
       "    </tr>\n",
       "    <tr>\n",
       "      <th>...</th>\n",
       "      <td>...</td>\n",
       "      <td>...</td>\n",
       "      <td>...</td>\n",
       "      <td>...</td>\n",
       "      <td>...</td>\n",
       "      <td>...</td>\n",
       "      <td>...</td>\n",
       "    </tr>\n",
       "    <tr>\n",
       "      <th>4995</th>\n",
       "      <td>[O_Create Offer, O_Created, O_Sent (mail and o...</td>\n",
       "      <td>[User_73, User_73, User_73, User_43]</td>\n",
       "      <td>[Created, statechange, statechange, statechange]</td>\n",
       "      <td>[Offer_993689039, OfferState_1192570219, Offer...</td>\n",
       "      <td>[Offer_862248796, Offer_993689039, Offer_99368...</td>\n",
       "      <td>[0 days 00:00:02.062000, 0 days 00:00:15.96300...</td>\n",
       "      <td>[True, False, False, False]</td>\n",
       "    </tr>\n",
       "    <tr>\n",
       "      <th>4996</th>\n",
       "      <td>[O_Create Offer, O_Created, O_Sent (mail and o...</td>\n",
       "      <td>[User_28, User_28, User_28, User_1]</td>\n",
       "      <td>[Created, statechange, statechange, statechange]</td>\n",
       "      <td>[Offer_993800442, OfferState_1754231388, Offer...</td>\n",
       "      <td>[Offer_1043318048, Offer_993800442, Offer_9938...</td>\n",
       "      <td>[0 days 00:00:01.530000, 0 days 00:00:20.28100...</td>\n",
       "      <td>[True, False, False, False]</td>\n",
       "    </tr>\n",
       "    <tr>\n",
       "      <th>4997</th>\n",
       "      <td>[O_Create Offer, O_Created, O_Sent (mail and o...</td>\n",
       "      <td>[User_19, User_19, User_19, User_116, User_113]</td>\n",
       "      <td>[Created, statechange, statechange, statechang...</td>\n",
       "      <td>[Offer_99473283, OfferState_1945701229, OfferS...</td>\n",
       "      <td>[Offer_833160233, Offer_99473283, Offer_994732...</td>\n",
       "      <td>[0 days 00:00:01.283000, 0 days 00:04:24.72900...</td>\n",
       "      <td>[True, False, False, False, False]</td>\n",
       "    </tr>\n",
       "    <tr>\n",
       "      <th>4998</th>\n",
       "      <td>[O_Create Offer, O_Created, O_Sent (mail and o...</td>\n",
       "      <td>[User_25, User_25, User_25, User_119, User_102]</td>\n",
       "      <td>[Created, statechange, statechange, statechang...</td>\n",
       "      <td>[Offer_995784215, OfferState_1350464436, Offer...</td>\n",
       "      <td>[Offer_520979602, Offer_995784215, Offer_99578...</td>\n",
       "      <td>[0 days 00:00:02.593000, 0 days 00:00:15.82700...</td>\n",
       "      <td>[True, False, False, False, False]</td>\n",
       "    </tr>\n",
       "    <tr>\n",
       "      <th>4999</th>\n",
       "      <td>[O_Create Offer, O_Created, O_Sent (mail and o...</td>\n",
       "      <td>[User_19, User_19, User_19, User_116, User_90]</td>\n",
       "      <td>[Created, statechange, statechange, statechang...</td>\n",
       "      <td>[Offer_997411923, OfferState_1967587147, Offer...</td>\n",
       "      <td>[Offer_997411923, Offer_997411923, Offer_99741...</td>\n",
       "      <td>[0 days 00:00:01.214000, 0 days 00:00:33.72400...</td>\n",
       "      <td>[True, False, False, False, False]</td>\n",
       "    </tr>\n",
       "  </tbody>\n",
       "</table>\n",
       "<p>5000 rows × 7 columns</p>\n",
       "</div>"
      ],
      "text/plain": [
       "                                               activity  \\\n",
       "0     [O_Create Offer, O_Created, O_Sent (mail and o...   \n",
       "1     [O_Create Offer, O_Created, O_Sent (mail and o...   \n",
       "2     [O_Create Offer, O_Created, O_Sent (mail and o...   \n",
       "3     [O_Create Offer, O_Created, O_Sent (mail and o...   \n",
       "4     [O_Create Offer, O_Created, O_Sent (mail and o...   \n",
       "...                                                 ...   \n",
       "4995  [O_Create Offer, O_Created, O_Sent (mail and o...   \n",
       "4996  [O_Create Offer, O_Created, O_Sent (mail and o...   \n",
       "4997  [O_Create Offer, O_Created, O_Sent (mail and o...   \n",
       "4998  [O_Create Offer, O_Created, O_Sent (mail and o...   \n",
       "4999  [O_Create Offer, O_Created, O_Sent (mail and o...   \n",
       "\n",
       "                                             resource  \\\n",
       "0     [User_20, User_20, User_20, User_117, User_115]   \n",
       "1         [User_2, User_2, User_2, User_113, User_30]   \n",
       "2     [User_85, User_85, User_85, User_117, User_118]   \n",
       "3     [User_49, User_49, User_49, User_113, User_102]   \n",
       "4                 [User_15, User_15, User_15, User_1]   \n",
       "...                                               ...   \n",
       "4995             [User_73, User_73, User_73, User_43]   \n",
       "4996              [User_28, User_28, User_28, User_1]   \n",
       "4997  [User_19, User_19, User_19, User_116, User_113]   \n",
       "4998  [User_25, User_25, User_25, User_119, User_102]   \n",
       "4999   [User_19, User_19, User_19, User_116, User_90]   \n",
       "\n",
       "                                                 Action  \\\n",
       "0     [Created, statechange, statechange, statechang...   \n",
       "1     [Created, statechange, statechange, statechang...   \n",
       "2     [Created, statechange, statechange, statechang...   \n",
       "3     [Created, statechange, statechange, statechang...   \n",
       "4      [Created, statechange, statechange, statechange]   \n",
       "...                                                 ...   \n",
       "4995   [Created, statechange, statechange, statechange]   \n",
       "4996   [Created, statechange, statechange, statechange]   \n",
       "4997  [Created, statechange, statechange, statechang...   \n",
       "4998  [Created, statechange, statechange, statechang...   \n",
       "4999  [Created, statechange, statechange, statechang...   \n",
       "\n",
       "                                                EventID  \\\n",
       "0     [Offer_1000681710, OfferState_452902905, Offer...   \n",
       "1     [Offer_1001553250, OfferState_1604351174, Offe...   \n",
       "2     [Offer_1002136393, OfferState_1608457034, Offe...   \n",
       "3     [Offer_1002236598, OfferState_1780384890, Offe...   \n",
       "4     [Offer_1002530118, OfferState_1971804832, Offe...   \n",
       "...                                                 ...   \n",
       "4995  [Offer_993689039, OfferState_1192570219, Offer...   \n",
       "4996  [Offer_993800442, OfferState_1754231388, Offer...   \n",
       "4997  [Offer_99473283, OfferState_1945701229, OfferS...   \n",
       "4998  [Offer_995784215, OfferState_1350464436, Offer...   \n",
       "4999  [Offer_997411923, OfferState_1967587147, Offer...   \n",
       "\n",
       "                                                OfferID  \\\n",
       "0     [Offer_520979602, Offer_1000681710, Offer_1000...   \n",
       "1     [Offer_533969936, Offer_1001553250, Offer_1001...   \n",
       "2     [Offer_520979602, Offer_1002136393, Offer_1002...   \n",
       "3     [Offer_1043318048, Offer_1002236598, Offer_100...   \n",
       "4     [Offer_1726748288, Offer_1002530118, Offer_100...   \n",
       "...                                                 ...   \n",
       "4995  [Offer_862248796, Offer_993689039, Offer_99368...   \n",
       "4996  [Offer_1043318048, Offer_993800442, Offer_9938...   \n",
       "4997  [Offer_833160233, Offer_99473283, Offer_994732...   \n",
       "4998  [Offer_520979602, Offer_995784215, Offer_99578...   \n",
       "4999  [Offer_997411923, Offer_997411923, Offer_99741...   \n",
       "\n",
       "                                                     dt  \\\n",
       "0     [0 days 00:00:01.663000, 0 days 00:00:19.05600...   \n",
       "1     [0 days 00:00:01.188000, 0 days 00:00:15.47200...   \n",
       "2     [0 days 00:00:01.293000, 0 days 00:00:19.55600...   \n",
       "3     [0 days 00:00:01.269000, 0 days 00:00:11.34800...   \n",
       "4     [0 days 00:00:01.216000, 0 days 00:00:20.01800...   \n",
       "...                                                 ...   \n",
       "4995  [0 days 00:00:02.062000, 0 days 00:00:15.96300...   \n",
       "4996  [0 days 00:00:01.530000, 0 days 00:00:20.28100...   \n",
       "4997  [0 days 00:00:01.283000, 0 days 00:04:24.72900...   \n",
       "4998  [0 days 00:00:02.593000, 0 days 00:00:15.82700...   \n",
       "4999  [0 days 00:00:01.214000, 0 days 00:00:33.72400...   \n",
       "\n",
       "                        OfferID_was_null  \n",
       "0     [True, False, False, False, False]  \n",
       "1     [True, False, False, False, False]  \n",
       "2     [True, False, False, False, False]  \n",
       "3     [True, False, False, False, False]  \n",
       "4            [True, False, False, False]  \n",
       "...                                  ...  \n",
       "4995         [True, False, False, False]  \n",
       "4996         [True, False, False, False]  \n",
       "4997  [True, False, False, False, False]  \n",
       "4998  [True, False, False, False, False]  \n",
       "4999  [True, False, False, False, False]  \n",
       "\n",
       "[5000 rows x 7 columns]"
      ]
     },
     "metadata": {},
     "output_type": "display_data"
    }
   ],
   "source": [
    "Utils.display_columns_to_aggragate(df_grouped)"
   ]
  },
  {
   "cell_type": "markdown",
   "metadata": {},
   "source": [
    "Some colomns have no importance in the process so we have to drop them.\n",
    "\n",
    "Keep in mind that if you leave a column with a lot of unique values it will make the encoding very slow, some times not feasible and may also compromise the ML model.\n"
   ]
  },
  {
   "cell_type": "code",
   "execution_count": 10,
   "metadata": {},
   "outputs": [],
   "source": [
    "df_grouped = df_grouped.drop(['EventID','OfferID'],axis=1)\n",
    "df_grouped = df_grouped.drop(['OfferID_was_null'],axis=1)"
   ]
  },
  {
   "cell_type": "code",
   "execution_count": 11,
   "metadata": {},
   "outputs": [
    {
     "data": {
      "text/html": [
       "<div>\n",
       "<style scoped>\n",
       "    .dataframe tbody tr th:only-of-type {\n",
       "        vertical-align: middle;\n",
       "    }\n",
       "\n",
       "    .dataframe tbody tr th {\n",
       "        vertical-align: top;\n",
       "    }\n",
       "\n",
       "    .dataframe thead th {\n",
       "        text-align: right;\n",
       "    }\n",
       "</style>\n",
       "<table border=\"1\" class=\"dataframe\">\n",
       "  <thead>\n",
       "    <tr style=\"text-align: right;\">\n",
       "      <th></th>\n",
       "      <th>caseid</th>\n",
       "      <th>activity</th>\n",
       "      <th>resource</th>\n",
       "      <th>Variant</th>\n",
       "      <th>Variant index</th>\n",
       "      <th>y</th>\n",
       "      <th>(case) ApplicationID</th>\n",
       "      <th>(case) CreditScore</th>\n",
       "      <th>(case) FirstWithdrawalAmount</th>\n",
       "      <th>(case) MonthlyCost</th>\n",
       "      <th>(case) NumberOfTerms</th>\n",
       "      <th>(case) OfferedAmount</th>\n",
       "      <th>(case) Selected</th>\n",
       "      <th>Action</th>\n",
       "      <th>EventOrigin</th>\n",
       "      <th>lifecycle:transition</th>\n",
       "      <th>dt</th>\n",
       "    </tr>\n",
       "  </thead>\n",
       "  <tbody>\n",
       "    <tr>\n",
       "      <th>0</th>\n",
       "      <td>Offer_1000681710</td>\n",
       "      <td>[O_Create Offer, O_Created, O_Sent (mail and o...</td>\n",
       "      <td>[User_20, User_20, User_20, User_117, User_115]</td>\n",
       "      <td>Variant 2</td>\n",
       "      <td>2</td>\n",
       "      <td>True</td>\n",
       "      <td>Application_2131314372</td>\n",
       "      <td>956</td>\n",
       "      <td>14500.0</td>\n",
       "      <td>200.0</td>\n",
       "      <td>96</td>\n",
       "      <td>16000.0</td>\n",
       "      <td>True</td>\n",
       "      <td>[Created, statechange, statechange, statechang...</td>\n",
       "      <td>Offer</td>\n",
       "      <td>complete</td>\n",
       "      <td>[0 days 00:00:01.663000, 0 days 00:00:19.05600...</td>\n",
       "    </tr>\n",
       "    <tr>\n",
       "      <th>1</th>\n",
       "      <td>Offer_1001553250</td>\n",
       "      <td>[O_Create Offer, O_Created, O_Sent (mail and o...</td>\n",
       "      <td>[User_2, User_2, User_2, User_113, User_30]</td>\n",
       "      <td>Variant 2</td>\n",
       "      <td>2</td>\n",
       "      <td>False</td>\n",
       "      <td>Application_1607028451</td>\n",
       "      <td>0</td>\n",
       "      <td>2500.0</td>\n",
       "      <td>175.0</td>\n",
       "      <td>127</td>\n",
       "      <td>17500.0</td>\n",
       "      <td>True</td>\n",
       "      <td>[Created, statechange, statechange, statechang...</td>\n",
       "      <td>Offer</td>\n",
       "      <td>complete</td>\n",
       "      <td>[0 days 00:00:01.188000, 0 days 00:00:15.47200...</td>\n",
       "    </tr>\n",
       "  </tbody>\n",
       "</table>\n",
       "</div>"
      ],
      "text/plain": [
       "             caseid                                           activity  \\\n",
       "0  Offer_1000681710  [O_Create Offer, O_Created, O_Sent (mail and o...   \n",
       "1  Offer_1001553250  [O_Create Offer, O_Created, O_Sent (mail and o...   \n",
       "\n",
       "                                          resource    Variant  Variant index  \\\n",
       "0  [User_20, User_20, User_20, User_117, User_115]  Variant 2              2   \n",
       "1      [User_2, User_2, User_2, User_113, User_30]  Variant 2              2   \n",
       "\n",
       "       y    (case) ApplicationID  (case) CreditScore  \\\n",
       "0   True  Application_2131314372                 956   \n",
       "1  False  Application_1607028451                   0   \n",
       "\n",
       "   (case) FirstWithdrawalAmount  (case) MonthlyCost  (case) NumberOfTerms  \\\n",
       "0                       14500.0               200.0                    96   \n",
       "1                        2500.0               175.0                   127   \n",
       "\n",
       "   (case) OfferedAmount  (case) Selected  \\\n",
       "0               16000.0             True   \n",
       "1               17500.0             True   \n",
       "\n",
       "                                              Action EventOrigin  \\\n",
       "0  [Created, statechange, statechange, statechang...       Offer   \n",
       "1  [Created, statechange, statechange, statechang...       Offer   \n",
       "\n",
       "  lifecycle:transition                                                 dt  \n",
       "0             complete  [0 days 00:00:01.663000, 0 days 00:00:19.05600...  \n",
       "1             complete  [0 days 00:00:01.188000, 0 days 00:00:15.47200...  "
      ]
     },
     "execution_count": 11,
     "metadata": {},
     "output_type": "execute_result"
    }
   ],
   "source": [
    "df_grouped.head(2)"
   ]
  },
  {
   "cell_type": "markdown",
   "metadata": {},
   "source": [
    "## Aggregation encoding"
   ]
  },
  {
   "cell_type": "code",
   "execution_count": 12,
   "metadata": {},
   "outputs": [],
   "source": [
    "df_grouped_agg = Utils.aggregation_encoding(df_grouped,df)"
   ]
  },
  {
   "cell_type": "code",
   "execution_count": null,
   "metadata": {},
   "outputs": [],
   "source": []
  },
  {
   "cell_type": "code",
   "execution_count": 16,
   "metadata": {},
   "outputs": [
    {
     "data": {
      "text/html": [
       "<div>\n",
       "<style scoped>\n",
       "    .dataframe tbody tr th:only-of-type {\n",
       "        vertical-align: middle;\n",
       "    }\n",
       "\n",
       "    .dataframe tbody tr th {\n",
       "        vertical-align: top;\n",
       "    }\n",
       "\n",
       "    .dataframe thead th {\n",
       "        text-align: right;\n",
       "    }\n",
       "</style>\n",
       "<table border=\"1\" class=\"dataframe\">\n",
       "  <thead>\n",
       "    <tr style=\"text-align: right;\">\n",
       "      <th></th>\n",
       "      <th>caseid</th>\n",
       "      <th>Variant</th>\n",
       "      <th>Variant index</th>\n",
       "      <th>y</th>\n",
       "      <th>(case) ApplicationID</th>\n",
       "      <th>(case) CreditScore</th>\n",
       "      <th>(case) FirstWithdrawalAmount</th>\n",
       "      <th>(case) MonthlyCost</th>\n",
       "      <th>(case) NumberOfTerms</th>\n",
       "      <th>(case) OfferedAmount</th>\n",
       "      <th>...</th>\n",
       "      <th>User_86</th>\n",
       "      <th>User_142</th>\n",
       "      <th>User_76</th>\n",
       "      <th>User_141</th>\n",
       "      <th>User_32</th>\n",
       "      <th>Created</th>\n",
       "      <th>statechange</th>\n",
       "      <th>avg_dt</th>\n",
       "      <th>max_dt</th>\n",
       "      <th>min_dt</th>\n",
       "    </tr>\n",
       "  </thead>\n",
       "  <tbody>\n",
       "    <tr>\n",
       "      <th>0</th>\n",
       "      <td>Offer_1000681710</td>\n",
       "      <td>Variant 2</td>\n",
       "      <td>2</td>\n",
       "      <td>True</td>\n",
       "      <td>Application_2131314372</td>\n",
       "      <td>956</td>\n",
       "      <td>14500.0</td>\n",
       "      <td>200.00</td>\n",
       "      <td>96</td>\n",
       "      <td>16000.0</td>\n",
       "      <td>...</td>\n",
       "      <td>0.0</td>\n",
       "      <td>0.0</td>\n",
       "      <td>0.0</td>\n",
       "      <td>0.0</td>\n",
       "      <td>0.0</td>\n",
       "      <td>0.20</td>\n",
       "      <td>0.80</td>\n",
       "      <td>1 days 11:21:59.362200</td>\n",
       "      <td>7 days 04:11:16.866000</td>\n",
       "      <td>0 days 00:00:01.663000</td>\n",
       "    </tr>\n",
       "    <tr>\n",
       "      <th>1</th>\n",
       "      <td>Offer_1001553250</td>\n",
       "      <td>Variant 2</td>\n",
       "      <td>2</td>\n",
       "      <td>False</td>\n",
       "      <td>Application_1607028451</td>\n",
       "      <td>0</td>\n",
       "      <td>2500.0</td>\n",
       "      <td>175.00</td>\n",
       "      <td>127</td>\n",
       "      <td>17500.0</td>\n",
       "      <td>...</td>\n",
       "      <td>0.0</td>\n",
       "      <td>0.0</td>\n",
       "      <td>0.0</td>\n",
       "      <td>0.0</td>\n",
       "      <td>0.0</td>\n",
       "      <td>0.20</td>\n",
       "      <td>0.80</td>\n",
       "      <td>2 days 22:47:28.444400</td>\n",
       "      <td>6 days 13:57:17.486000</td>\n",
       "      <td>0 days 00:00:01.188000</td>\n",
       "    </tr>\n",
       "    <tr>\n",
       "      <th>2</th>\n",
       "      <td>Offer_1002136393</td>\n",
       "      <td>Variant 2</td>\n",
       "      <td>2</td>\n",
       "      <td>True</td>\n",
       "      <td>Application_638926349</td>\n",
       "      <td>969</td>\n",
       "      <td>6500.0</td>\n",
       "      <td>343.25</td>\n",
       "      <td>20</td>\n",
       "      <td>6500.0</td>\n",
       "      <td>...</td>\n",
       "      <td>0.0</td>\n",
       "      <td>0.0</td>\n",
       "      <td>0.0</td>\n",
       "      <td>0.0</td>\n",
       "      <td>0.0</td>\n",
       "      <td>0.20</td>\n",
       "      <td>0.80</td>\n",
       "      <td>5 days 22:58:29.630800</td>\n",
       "      <td>18 days 00:58:56.495000</td>\n",
       "      <td>0 days 00:00:01.293000</td>\n",
       "    </tr>\n",
       "    <tr>\n",
       "      <th>3</th>\n",
       "      <td>Offer_1002236598</td>\n",
       "      <td>Variant 3</td>\n",
       "      <td>3</td>\n",
       "      <td>False</td>\n",
       "      <td>Application_818693455</td>\n",
       "      <td>0</td>\n",
       "      <td>2500.0</td>\n",
       "      <td>210.00</td>\n",
       "      <td>127</td>\n",
       "      <td>21000.0</td>\n",
       "      <td>...</td>\n",
       "      <td>0.0</td>\n",
       "      <td>0.0</td>\n",
       "      <td>0.0</td>\n",
       "      <td>0.0</td>\n",
       "      <td>0.0</td>\n",
       "      <td>0.20</td>\n",
       "      <td>0.80</td>\n",
       "      <td>1 days 20:42:58.900800</td>\n",
       "      <td>3 days 03:26:35.948000</td>\n",
       "      <td>0 days 00:00:01.269000</td>\n",
       "    </tr>\n",
       "    <tr>\n",
       "      <th>4</th>\n",
       "      <td>Offer_1002530118</td>\n",
       "      <td>Variant 1</td>\n",
       "      <td>1</td>\n",
       "      <td>False</td>\n",
       "      <td>Application_1126987739</td>\n",
       "      <td>0</td>\n",
       "      <td>19750.0</td>\n",
       "      <td>210.12</td>\n",
       "      <td>120</td>\n",
       "      <td>20000.0</td>\n",
       "      <td>...</td>\n",
       "      <td>0.0</td>\n",
       "      <td>0.0</td>\n",
       "      <td>0.0</td>\n",
       "      <td>0.0</td>\n",
       "      <td>0.0</td>\n",
       "      <td>0.25</td>\n",
       "      <td>0.75</td>\n",
       "      <td>15 days 06:47:37.585000</td>\n",
       "      <td>30 days 13:35:04.553000</td>\n",
       "      <td>0 days 00:00:01.216000</td>\n",
       "    </tr>\n",
       "  </tbody>\n",
       "</table>\n",
       "<p>5 rows × 106 columns</p>\n",
       "</div>"
      ],
      "text/plain": [
       "             caseid    Variant  Variant index      y    (case) ApplicationID  \\\n",
       "0  Offer_1000681710  Variant 2              2   True  Application_2131314372   \n",
       "1  Offer_1001553250  Variant 2              2  False  Application_1607028451   \n",
       "2  Offer_1002136393  Variant 2              2   True   Application_638926349   \n",
       "3  Offer_1002236598  Variant 3              3  False   Application_818693455   \n",
       "4  Offer_1002530118  Variant 1              1  False  Application_1126987739   \n",
       "\n",
       "   (case) CreditScore  (case) FirstWithdrawalAmount  (case) MonthlyCost  \\\n",
       "0                 956                       14500.0              200.00   \n",
       "1                   0                        2500.0              175.00   \n",
       "2                 969                        6500.0              343.25   \n",
       "3                   0                        2500.0              210.00   \n",
       "4                   0                       19750.0              210.12   \n",
       "\n",
       "   (case) NumberOfTerms  (case) OfferedAmount  ...  User_86 User_142 User_76  \\\n",
       "0                    96               16000.0  ...      0.0      0.0     0.0   \n",
       "1                   127               17500.0  ...      0.0      0.0     0.0   \n",
       "2                    20                6500.0  ...      0.0      0.0     0.0   \n",
       "3                   127               21000.0  ...      0.0      0.0     0.0   \n",
       "4                   120               20000.0  ...      0.0      0.0     0.0   \n",
       "\n",
       "   User_141  User_32  Created  statechange                  avg_dt  \\\n",
       "0       0.0      0.0     0.20         0.80  1 days 11:21:59.362200   \n",
       "1       0.0      0.0     0.20         0.80  2 days 22:47:28.444400   \n",
       "2       0.0      0.0     0.20         0.80  5 days 22:58:29.630800   \n",
       "3       0.0      0.0     0.20         0.80  1 days 20:42:58.900800   \n",
       "4       0.0      0.0     0.25         0.75 15 days 06:47:37.585000   \n",
       "\n",
       "                   max_dt                 min_dt  \n",
       "0  7 days 04:11:16.866000 0 days 00:00:01.663000  \n",
       "1  6 days 13:57:17.486000 0 days 00:00:01.188000  \n",
       "2 18 days 00:58:56.495000 0 days 00:00:01.293000  \n",
       "3  3 days 03:26:35.948000 0 days 00:00:01.269000  \n",
       "4 30 days 13:35:04.553000 0 days 00:00:01.216000  \n",
       "\n",
       "[5 rows x 106 columns]"
      ]
     },
     "execution_count": 16,
     "metadata": {},
     "output_type": "execute_result"
    }
   ],
   "source": [
    "df_grouped_agg.head()"
   ]
  },
  {
   "cell_type": "markdown",
   "metadata": {},
   "source": [
    "## Index encoding"
   ]
  },
  {
   "cell_type": "code",
   "execution_count": 17,
   "metadata": {},
   "outputs": [],
   "source": [
    "df_grouped_agg = Utils.index_encoding(df_grouped,df,columns_to_encode = [\"activity\",\"resource\",\"Action\"])"
   ]
  },
  {
   "cell_type": "code",
   "execution_count": 21,
   "metadata": {},
   "outputs": [],
   "source": [
    "df_grouped_agg.drop([\"activity\",\"resource\",\"Action\"],inplace=True,axis=1)"
   ]
  },
  {
   "cell_type": "code",
   "execution_count": null,
   "metadata": {},
   "outputs": [],
   "source": []
  },
  {
   "cell_type": "markdown",
   "metadata": {},
   "source": [
    "## Model Building"
   ]
  },
  {
   "cell_type": "markdown",
   "metadata": {},
   "source": [
    "To train the model we decided to implement a Auto Machine learning lybrary h20o: https://docs.h2o.ai/h2o/latest-stable/h2o-docs/welcome.html\n",
    "\n",
    "We chose this library beacuse it is built around java that will parallelise the training as much as possible, making the process much faster."
   ]
  },
  {
   "cell_type": "code",
   "execution_count": 18,
   "metadata": {},
   "outputs": [],
   "source": [
    "import h2o\n",
    "from h2o.automl import H2OAutoML\n",
    "from h2o.automl import H2OAutoML"
   ]
  },
  {
   "cell_type": "markdown",
   "metadata": {},
   "source": [
    "Select the dataframe you want to use"
   ]
  },
  {
   "cell_type": "code",
   "execution_count": null,
   "metadata": {},
   "outputs": [],
   "source": [
    "df_grouped = df_grouped_agg.copy()"
   ]
  },
  {
   "cell_type": "markdown",
   "metadata": {},
   "source": [
    "We first initialize the istance of h2o"
   ]
  },
  {
   "cell_type": "code",
   "execution_count": 19,
   "metadata": {},
   "outputs": [
    {
     "name": "stdout",
     "output_type": "stream",
     "text": [
      "Checking whether there is an H2O instance running at http://localhost:54321. connected.\n"
     ]
    },
    {
     "data": {
      "text/html": [
       "\n",
       "<style>\n",
       "\n",
       "#h2o-table-1.h2o-container {\n",
       "  overflow-x: auto;\n",
       "}\n",
       "#h2o-table-1 .h2o-table {\n",
       "  /* width: 100%; */\n",
       "  margin-top: 1em;\n",
       "  margin-bottom: 1em;\n",
       "}\n",
       "#h2o-table-1 .h2o-table caption {\n",
       "  white-space: nowrap;\n",
       "  caption-side: top;\n",
       "  text-align: left;\n",
       "  /* margin-left: 1em; */\n",
       "  margin: 0;\n",
       "  font-size: larger;\n",
       "}\n",
       "#h2o-table-1 .h2o-table thead {\n",
       "  white-space: nowrap; \n",
       "  position: sticky;\n",
       "  top: 0;\n",
       "  box-shadow: 0 -1px inset;\n",
       "}\n",
       "#h2o-table-1 .h2o-table tbody {\n",
       "  overflow: auto;\n",
       "}\n",
       "#h2o-table-1 .h2o-table th,\n",
       "#h2o-table-1 .h2o-table td {\n",
       "  text-align: right;\n",
       "  /* border: 1px solid; */\n",
       "}\n",
       "#h2o-table-1 .h2o-table tr:nth-child(even) {\n",
       "  /* background: #F5F5F5 */\n",
       "}\n",
       "\n",
       "</style>      \n",
       "<div id=\"h2o-table-1\" class=\"h2o-container\">\n",
       "  <table class=\"h2o-table\">\n",
       "    <caption></caption>\n",
       "    <thead></thead>\n",
       "    <tbody><tr><td>H2O_cluster_uptime:</td>\n",
       "<td>14 mins 43 secs</td></tr>\n",
       "<tr><td>H2O_cluster_timezone:</td>\n",
       "<td>Europe/Berlin</td></tr>\n",
       "<tr><td>H2O_data_parsing_timezone:</td>\n",
       "<td>UTC</td></tr>\n",
       "<tr><td>H2O_cluster_version:</td>\n",
       "<td>3.44.0.3</td></tr>\n",
       "<tr><td>H2O_cluster_version_age:</td>\n",
       "<td>27 days</td></tr>\n",
       "<tr><td>H2O_cluster_name:</td>\n",
       "<td>H2O_from_python_l_marazzi_rjo86d</td></tr>\n",
       "<tr><td>H2O_cluster_total_nodes:</td>\n",
       "<td>1</td></tr>\n",
       "<tr><td>H2O_cluster_free_memory:</td>\n",
       "<td>7.711 Gb</td></tr>\n",
       "<tr><td>H2O_cluster_total_cores:</td>\n",
       "<td>8</td></tr>\n",
       "<tr><td>H2O_cluster_allowed_cores:</td>\n",
       "<td>8</td></tr>\n",
       "<tr><td>H2O_cluster_status:</td>\n",
       "<td>locked, healthy</td></tr>\n",
       "<tr><td>H2O_connection_url:</td>\n",
       "<td>http://localhost:54321</td></tr>\n",
       "<tr><td>H2O_connection_proxy:</td>\n",
       "<td>{\"http\": null, \"https\": null}</td></tr>\n",
       "<tr><td>H2O_internal_security:</td>\n",
       "<td>False</td></tr>\n",
       "<tr><td>Python_version:</td>\n",
       "<td>3.11.7 final</td></tr></tbody>\n",
       "  </table>\n",
       "</div>\n"
      ],
      "text/plain": [
       "--------------------------  --------------------------------\n",
       "H2O_cluster_uptime:         14 mins 43 secs\n",
       "H2O_cluster_timezone:       Europe/Berlin\n",
       "H2O_data_parsing_timezone:  UTC\n",
       "H2O_cluster_version:        3.44.0.3\n",
       "H2O_cluster_version_age:    27 days\n",
       "H2O_cluster_name:           H2O_from_python_l_marazzi_rjo86d\n",
       "H2O_cluster_total_nodes:    1\n",
       "H2O_cluster_free_memory:    7.711 Gb\n",
       "H2O_cluster_total_cores:    8\n",
       "H2O_cluster_allowed_cores:  8\n",
       "H2O_cluster_status:         locked, healthy\n",
       "H2O_connection_url:         http://localhost:54321\n",
       "H2O_connection_proxy:       {\"http\": null, \"https\": null}\n",
       "H2O_internal_security:      False\n",
       "Python_version:             3.11.7 final\n",
       "--------------------------  --------------------------------"
      ]
     },
     "metadata": {},
     "output_type": "display_data"
    }
   ],
   "source": [
    "h2o.init()"
   ]
  },
  {
   "cell_type": "code",
   "execution_count": null,
   "metadata": {},
   "outputs": [],
   "source": [
    "#Slit dataset into train and test\n",
    "X_train, X_test = train_test_split(df_grouped, test_size=test_size)\n",
    "\n",
    "#cast df into h2o DF\n",
    "df_h_train = h2o.H2OFrame(X_train)\n",
    "df_h_test = h2o.H2OFrame(X_test)\n",
    "\n",
    "#select the columns for training and testing\n",
    "x = df_h_train.columns\n",
    "y = \"y\"\n",
    "x.remove(y)\n"
   ]
  },
  {
   "cell_type": "markdown",
   "metadata": {},
   "source": [
    "### Classification"
   ]
  },
  {
   "cell_type": "code",
   "execution_count": null,
   "metadata": {},
   "outputs": [],
   "source": [
    "\n",
    "#Cast the y in factor for classification this is to be changed if we want to do regression\n",
    "df_h_train[y] = df_h_train[y].asfactor()\n",
    "df_h_train[y] = df_h_train[y].asfactor()\n",
    "\n",
    "\n",
    "#Bluild and train models\n",
    "aml = H2OAutoML(max_models=15, seed=1,max_runtime_secs= 120)\n",
    "aml.train(x=x, y=y, training_frame=df_h_train)\n"
   ]
  },
  {
   "cell_type": "markdown",
   "metadata": {},
   "source": [
    "Now we have all the models inside the aml object.\n",
    "This object is the core of the autoML library and we can do almost everything.\n",
    "\n",
    "#### Leaderboard"
   ]
  },
  {
   "cell_type": "code",
   "execution_count": null,
   "metadata": {},
   "outputs": [],
   "source": [
    "lb = aml.leaderboard\n",
    "lb.head(rows=lb.nrows) "
   ]
  },
  {
   "cell_type": "markdown",
   "metadata": {},
   "source": [
    "Select the best model"
   ]
  },
  {
   "cell_type": "code",
   "execution_count": null,
   "metadata": {},
   "outputs": [],
   "source": [
    "model = aml.leader"
   ]
  },
  {
   "cell_type": "markdown",
   "metadata": {},
   "source": [
    "#### Training curve"
   ]
  },
  {
   "cell_type": "code",
   "execution_count": null,
   "metadata": {},
   "outputs": [],
   "source": [
    "learning_curve_plot = model.learning_curve_plot()"
   ]
  },
  {
   "cell_type": "markdown",
   "metadata": {},
   "source": [
    "#### Check performance"
   ]
  },
  {
   "cell_type": "code",
   "execution_count": null,
   "metadata": {},
   "outputs": [],
   "source": [
    "perf = model.model_performance(df_h_test)\n",
    "print(perf.accuracy()[0][1])\n",
    "perf.confusion_matrix()"
   ]
  },
  {
   "cell_type": "markdown",
   "metadata": {},
   "source": [
    "#### Model Explainability\n",
    "\n",
    "Feature importance of a specific model"
   ]
  },
  {
   "cell_type": "code",
   "execution_count": null,
   "metadata": {},
   "outputs": [],
   "source": [
    "h2o.get_model(\"XGBoost_3_AutoML_2_20240117_162729\").varimp_plot()"
   ]
  },
  {
   "cell_type": "markdown",
   "metadata": {},
   "source": [
    "Show feature importance between all the models"
   ]
  },
  {
   "cell_type": "code",
   "execution_count": null,
   "metadata": {},
   "outputs": [],
   "source": [
    "va_plot = aml.varimp_heatmap()\n",
    "\n",
    "va_plot = h2o.varimp_heatmap(aml.leaderboard.sort(\"auc\").head(10))\n",
    "\n",
    "# or even extended leaderboard can be used\n",
    "va_plot = h2o.varimp_heatmap(h2o.automl.get_leaderboard(aml, extra_columns=\"training_time_ms\").sort(\"training_time_ms\").head(10))"
   ]
  },
  {
   "cell_type": "markdown",
   "metadata": {},
   "source": [
    "## Model Retraining \n",
    "\n",
    "We can then retrain the model taking out the less important features"
   ]
  },
  {
   "cell_type": "code",
   "execution_count": null,
   "metadata": {},
   "outputs": [],
   "source": [
    "df = pd.read_csv(\"/kaggle/input/data-sets/Sampled_BPIC17_offer_log.csv\")\n",
    "\n",
    "input = {\n",
    "    \"Case ID\" : \"caseid\",\n",
    "    \"Activity\" : \"activity\" ,\n",
    "    \"Resource\" : \"resource\" ,\n",
    "    \"Complete Timestamp\": \"ts\",\n",
    "    \"(case) Accepted\" : \"y\"  #Needs to be 1 for each Case\n",
    "}\n",
    "\n",
    "# Change columns name\n",
    "df.rename(columns=input,inplace = True)\n",
    "\n",
    "# Timestamp value in df\n",
    "df[\"ts\"] = pd.to_datetime(df[\"ts\"])\n",
    "\n",
    "df[\"dt\"] = Utils.dt(df) # Thisneed to be improved\n",
    "df.drop(\"ts\",axis=1,inplace = True)\n",
    "\n",
    "##DROP THE USLESS COLUMNS\n",
    "df.drop(\"resource\",axis=1,inplace = True)\n",
    "\n",
    "df = Utils.predict_null_value(colum=\"OfferID\",df=df)\n",
    "\n",
    "df = Utils.prod_nan_with_treshold(df)\n",
    "\n",
    "df_grouped = df.groupby([\"caseid\"]).agg(list).reset_index()\n",
    "df_grouped = Utils.reduce_list_columns(df_grouped)\n",
    "df_grouped = df_grouped.drop(['EventID','OfferID'],axis=1)\n",
    "df_grouped = df_grouped.drop(['OfferID_was_null'],axis=1)\n",
    "df_grouped_agg = Utils.aggregation_encoding(df_grouped,df)\n",
    "df_grouped_agg.drop(\"dt\",axis=1,inplace = True)"
   ]
  },
  {
   "cell_type": "code",
   "execution_count": null,
   "metadata": {},
   "outputs": [],
   "source": [
    "df_grouped_agg[\"max_dt\"] = df_grouped_agg[\"max_dt\"].map(lambda x : x.seconds)\n",
    "df_grouped_agg[\"min_dt\"] = df_grouped_agg[\"min_dt\"].map(lambda x : x.seconds)\n",
    "df_grouped_agg[\"avg_dt\"] = df_grouped_agg[\"avg_dt\"].map(lambda x : x.seconds)"
   ]
  },
  {
   "cell_type": "code",
   "execution_count": null,
   "metadata": {},
   "outputs": [],
   "source": [
    "df_grouped_agg.drop(\"caseid\",axis=1,inplace = True)\n",
    "df_grouped_agg.drop(\"Variant\",axis=1,inplace = True)\n",
    "df_grouped_agg.drop(\"(case) ApplicationID\",axis=1,inplace = True)"
   ]
  },
  {
   "cell_type": "code",
   "execution_count": null,
   "metadata": {},
   "outputs": [],
   "source": [
    "h2o.init()\n",
    "\n",
    "X_train, X_test = train_test_split(df_grouped_agg, test_size=0.3)\n",
    "\n",
    "df_h_train = h2o.H2OFrame(X_train)\n",
    "df_h_test = h2o.H2OFrame(X_test)\n",
    "\n",
    "\n",
    "x = df_h_train.columns\n",
    "y = \"y\"\n",
    "x.remove(y)\n",
    "\n",
    "\n",
    "df_h_train[y] = df_h_train[y].asfactor()\n",
    "df_h_train[y] = df_h_train[y].asfactor()\n",
    "\n",
    "aml = H2OAutoML(nfolds = 10, max_models=15, seed=1,max_runtime_secs= 1800,balance_classes=True)\n",
    "aml.train(x=x, y=y, training_frame=df_h_train)\n"
   ]
  },
  {
   "cell_type": "code",
   "execution_count": null,
   "metadata": {},
   "outputs": [],
   "source": [
    "model_2 = aml.leader\n",
    "perf = model_2.model_performance(df_h_test)\n",
    "print(perf.accuracy()[0][1])\n",
    "perf.confusion_matrix()"
   ]
  },
  {
   "cell_type": "code",
   "execution_count": null,
   "metadata": {},
   "outputs": [],
   "source": [
    "aml.leaderboard.head(5)"
   ]
  },
  {
   "cell_type": "code",
   "execution_count": null,
   "metadata": {},
   "outputs": [],
   "source": [
    "h2o.get_model(\"GBM_3_AutoML_3_20240117_163430\").varimp_plot()"
   ]
  },
  {
   "cell_type": "code",
   "execution_count": null,
   "metadata": {},
   "outputs": [],
   "source": [
    "va_plot = aml.varimp_heatmap()\n",
    "\n",
    "# or if some subset of the models is needed a slice of leaderboard can be used, e.g., using MAE as the sorting metric\n",
    "va_plot = h2o.varimp_heatmap(aml.leaderboard.sort(\"auc\").head(10))\n",
    "\n",
    "# or even extended leaderboard can be used\n",
    "va_plot = h2o.varimp_heatmap(h2o.automl.get_leaderboard(aml, extra_columns=\"training_time_ms\").sort(\"training_time_ms\").head(10))"
   ]
  },
  {
   "cell_type": "markdown",
   "metadata": {},
   "source": [
    "## Evaluation of results"
   ]
  },
  {
   "cell_type": "code",
   "execution_count": null,
   "metadata": {},
   "outputs": [],
   "source": []
  },
  {
   "cell_type": "code",
   "execution_count": null,
   "metadata": {},
   "outputs": [],
   "source": []
  }
 ],
 "metadata": {
  "kernelspec": {
   "display_name": "Python 3 (ipykernel)",
   "language": "python",
   "name": "python3"
  },
  "language_info": {
   "codemirror_mode": {
    "name": "ipython",
    "version": 3
   },
   "file_extension": ".py",
   "mimetype": "text/x-python",
   "name": "python",
   "nbconvert_exporter": "python",
   "pygments_lexer": "ipython3",
   "version": "3.11.7"
  }
 },
 "nbformat": 4,
 "nbformat_minor": 4
}
